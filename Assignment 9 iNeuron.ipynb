{
 "cells": [
  {
   "cell_type": "markdown",
   "id": "fa79a4e4",
   "metadata": {},
   "source": [
    "# ASSIGNMENT 9"
   ]
  },
  {
   "cell_type": "markdown",
   "id": "873610ea",
   "metadata": {},
   "source": [
    "# 1. What is a lambda function in Python, and how does it differ from a regular function?"
   ]
  },
  {
   "cell_type": "code",
   "execution_count": null,
   "id": "15342981",
   "metadata": {},
   "outputs": [],
   "source": [
    "Answer:\n",
    "Answer:\n",
    "Python Lambda Functions are anonymous function means that the function does not have any name.They are created using the\n",
    "lambda keyword, they have only one expression.\n",
    "\n",
    "Differences between lambda and regular function are:\n",
    "1)lambda do not have specific name, as regular function is defined with def keyword.\n",
    "2)lambda function only contains single expression, while regular functions use block of statements.\n",
    "3)There is no return keyword defined explicitly because the lambda function does return an object by default.\n",
    "4)These functions do not have parenthesis like the def defined functions."
   ]
  },
  {
   "cell_type": "markdown",
   "id": "21466243",
   "metadata": {},
   "source": [
    "# 2. Can a lambda function in Python have multiple arguments? If yes, how can you define and use them?"
   ]
  },
  {
   "cell_type": "code",
   "execution_count": null,
   "id": "d917a9d5",
   "metadata": {},
   "outputs": [],
   "source": [
    "Answer:\n",
    "Yes, in python lambda function have multiple arguments. Lambda function can be defined using lambda keyword, followed by\n",
    "arguments to give the function body."
   ]
  },
  {
   "cell_type": "code",
   "execution_count": 1,
   "id": "0bee4872",
   "metadata": {},
   "outputs": [],
   "source": [
    "#EXAMPLE:\n",
    "Addition = lambda x, y: x + y                #here lambda function takes 2 arguments x and y"
   ]
  },
  {
   "cell_type": "code",
   "execution_count": 2,
   "id": "2ab61bdf",
   "metadata": {},
   "outputs": [
    {
     "name": "stdout",
     "output_type": "stream",
     "text": [
      "10\n"
     ]
    }
   ],
   "source": [
    "output=Addition(5,5)\n",
    "print(output)"
   ]
  },
  {
   "cell_type": "markdown",
   "id": "ddbd080b",
   "metadata": {},
   "source": [
    "# 3. How are lambda functions typically used in Python? Provide an example use case."
   ]
  },
  {
   "cell_type": "code",
   "execution_count": null,
   "id": "79bf8007",
   "metadata": {},
   "outputs": [],
   "source": [
    "Answer:\n",
    "Lambda functions are small anonymous functions that can take any number of arguments, but can only have one expression.\n",
    "They are useful when you need a quick function for a short period of time,such as passing it as an argument to another function."
   ]
  },
  {
   "cell_type": "code",
   "execution_count": 4,
   "id": "7536e8bd",
   "metadata": {},
   "outputs": [
    {
     "name": "stdout",
     "output_type": "stream",
     "text": [
      "[1, 4, 9, 16, 25]\n"
     ]
    }
   ],
   "source": [
    "#EXAMPLE:\n",
    "numbers = [1, 2, 3, 4, 5]\n",
    "square = map(lambda x: x**2, numbers)   #map() function applies this lambda function\n",
    "print(list(square))"
   ]
  },
  {
   "cell_type": "markdown",
   "id": "433b7b42",
   "metadata": {},
   "source": [
    "# 4. What are the advantages and limitations of lambda functions compared to regular functions in Python?"
   ]
  },
  {
   "cell_type": "code",
   "execution_count": null,
   "id": "7ed83caa",
   "metadata": {},
   "outputs": [],
   "source": [
    "Answer:\n",
    "Advantages of Lambda Functions:\n",
    "1)Concise and Readable: Lambda functions allow you to define simple, one-line functions without the need for a formal function\n",
    "definition. This can make your code more compact and easier to read, especially when the function logic is straight forward.\n",
    "2)Anonymous Functions: Lambda functions are anonymous, meaning they don't require a name. \n",
    "3)Function Composition: Lambda functions can be used in functional programming to compose higher-order functions. They can serve\n",
    "as arguments to functions like map(), filter(), and reduce(), allowing to write more expressive code.\n",
    "\n",
    "\n",
    "Limitations of Lambda Functions:\n",
    "1)Single Expression Limit: Lambda functions in Python are limited to single expression. They can't contain multiple statements\n",
    "or complex logic. If you need to include conditional statements or multiple lines of code, a regular function is more\n",
    "appropriate.\n",
    "2)No Statements: Lambda functions can only contain expressions and not statements. Statements like print(), if, for, or while\n",
    "loops are not allowed within a lambda function. Regular functions on the other hand, can include any valid Python statements.\n",
    "3)Lack of explanation: Lambda functions have some limitations such as not being able to use docstrings, annotations, or global\n",
    "and nonlocal statements.Regular functions allow you to provide detailed explanations of their purpose, usage, and parameters,\n",
    "making them more self-explanatory and easier to understand.\n",
    "\n"
   ]
  },
  {
   "cell_type": "markdown",
   "id": "11fd822c",
   "metadata": {},
   "source": [
    "# 5. Are lambda functions in Python able to access variables defined outside of their own scope?Explain with an example."
   ]
  },
  {
   "cell_type": "code",
   "execution_count": null,
   "id": "7987f3b4",
   "metadata": {},
   "outputs": [],
   "source": [
    "Answer:\n",
    "Yes, lambda functions in Python can access variables defined outside of their own scope. \n",
    "When a lambda function is defined, it retains access to variables from the surrounding scope in which it was defined, even if\n",
    "those variables are not explicitly passed as arguments to the lambda function."
   ]
  },
  {
   "cell_type": "code",
   "execution_count": 6,
   "id": "6edc1927",
   "metadata": {},
   "outputs": [
    {
     "name": "stdout",
     "output_type": "stream",
     "text": [
      "40\n"
     ]
    }
   ],
   "source": [
    "#EXAMPLE:\n",
    "x = 10\n",
    "y = 20\n",
    "f = lambda: x + y\n",
    "x = 15\n",
    "y = 25\n",
    "print(f())"
   ]
  },
  {
   "cell_type": "code",
   "execution_count": null,
   "id": "5141180b",
   "metadata": {},
   "outputs": [],
   "source": [
    "#The output of this code is 40 not 30, because the lambda function f uses the current values of x and y when it is called,\n",
    "#not the values when it was defined."
   ]
  },
  {
   "cell_type": "markdown",
   "id": "a1f9b0db",
   "metadata": {},
   "source": [
    "# 6. Write a lambda function to calculate the square of a given number."
   ]
  },
  {
   "cell_type": "code",
   "execution_count": 8,
   "id": "e824321c",
   "metadata": {},
   "outputs": [],
   "source": [
    "#Answer:\n",
    "square= lambda x: x**2"
   ]
  },
  {
   "cell_type": "code",
   "execution_count": 9,
   "id": "8ddeb698",
   "metadata": {},
   "outputs": [
    {
     "data": {
      "text/plain": [
       "25"
      ]
     },
     "execution_count": 9,
     "metadata": {},
     "output_type": "execute_result"
    }
   ],
   "source": [
    "square(5)"
   ]
  },
  {
   "cell_type": "markdown",
   "id": "f6bc116d",
   "metadata": {},
   "source": [
    "# 7. Create a lambda function to find the maximum value in a list of integers."
   ]
  },
  {
   "cell_type": "code",
   "execution_count": 11,
   "id": "5834c0cb",
   "metadata": {},
   "outputs": [],
   "source": [
    "#Answer:\n",
    "maxi_no = lambda lst: max(lst)       #here max() function is used to get maximum value in list"
   ]
  },
  {
   "cell_type": "code",
   "execution_count": 13,
   "id": "c316f8dc",
   "metadata": {},
   "outputs": [],
   "source": [
    "num=[20,50,10,90,1000]\n",
    "output=maxi_no(num)"
   ]
  },
  {
   "cell_type": "code",
   "execution_count": 14,
   "id": "0ddaa786",
   "metadata": {},
   "outputs": [
    {
     "name": "stdout",
     "output_type": "stream",
     "text": [
      "1000\n"
     ]
    }
   ],
   "source": [
    "print(output)"
   ]
  },
  {
   "cell_type": "markdown",
   "id": "0eec3f1e",
   "metadata": {},
   "source": [
    "# 8. Implement a lambda function to filter out all the even numbers from a list of integers."
   ]
  },
  {
   "cell_type": "code",
   "execution_count": 15,
   "id": "972aaa49",
   "metadata": {},
   "outputs": [],
   "source": [
    "#Answer:\n",
    "Get_even = lambda lst: list(filter(lambda x: x % 2 == 0, lst))\n",
    "#The filter() function is used in program with a lambda function to create a new list that contains only the even numbers."
   ]
  },
  {
   "cell_type": "code",
   "execution_count": 18,
   "id": "f1d36819",
   "metadata": {},
   "outputs": [],
   "source": [
    "num=[20,55,66, 77, 91, 12, 33, 62, 89, 100]\n",
    "output=Get_even(num)"
   ]
  },
  {
   "cell_type": "code",
   "execution_count": 19,
   "id": "e0ed818f",
   "metadata": {},
   "outputs": [
    {
     "name": "stdout",
     "output_type": "stream",
     "text": [
      "[20, 66, 12, 62, 100]\n"
     ]
    }
   ],
   "source": [
    "print(output)"
   ]
  },
  {
   "cell_type": "markdown",
   "id": "f97d5bd2",
   "metadata": {},
   "source": [
    "# 9. Write a lambda function to sort a list of strings in ascending order based on the length of each string."
   ]
  },
  {
   "cell_type": "code",
   "execution_count": 1,
   "id": "2869c385",
   "metadata": {},
   "outputs": [
    {
     "name": "stdout",
     "output_type": "stream",
     "text": [
      "['Himanshu,sonu,hanuman ji,jai shree ram']\n"
     ]
    }
   ],
   "source": [
    "#Answer:\n",
    "strings = ['Himanshu,sonu,hanuman ji,jai shree ram']   #created list of string values\n",
    "sorted_strings = sorted(strings, key=lambda x: len(x))                #here we used sorted function for sorting the string list\n",
    "print(sorted_strings)"
   ]
  },
  {
   "cell_type": "markdown",
   "id": "ab5e61a5",
   "metadata": {},
   "source": [
    "# 10. Create a lambda function that takes two lists as input and returns a new list containing the common elements between the two lists."
   ]
  },
  {
   "cell_type": "code",
   "execution_count": 7,
   "id": "25686d3c",
   "metadata": {},
   "outputs": [
    {
     "name": "stdout",
     "output_type": "stream",
     "text": [
      "[4, 5]\n"
     ]
    }
   ],
   "source": [
    "#Answer:\n",
    "list1 = [1, 2, 3, 4, 5]         #2 list has been given\n",
    "list2 = [4, 5, 6, 7, 8]\n",
    "elements = list(filter(lambda x: x in list1, list2))       #filter function is used to filter elements  \n",
    "print(elements)\n"
   ]
  },
  {
   "cell_type": "markdown",
   "id": "5786ac48",
   "metadata": {},
   "source": [
    "# 11. Write a recursive function to calculate the factorial of a given positive integer."
   ]
  },
  {
   "cell_type": "code",
   "execution_count": 8,
   "id": "9bfc0b0b",
   "metadata": {},
   "outputs": [],
   "source": [
    "#Answer:\n",
    "def factorial(n):\n",
    "    if n == 0 or n == 1:\n",
    "        return 1\n",
    "    else:\n",
    "        return n * factorial(n - 1)"
   ]
  },
  {
   "cell_type": "code",
   "execution_count": 10,
   "id": "c08035b6",
   "metadata": {},
   "outputs": [
    {
     "name": "stdout",
     "output_type": "stream",
     "text": [
      "The factorial of 5 is: 120\n"
     ]
    }
   ],
   "source": [
    "num=5\n",
    "output=factorial(num)\n",
    "print(f\"The factorial of 5 is: {output}\")"
   ]
  },
  {
   "cell_type": "markdown",
   "id": "b6d25a9b",
   "metadata": {},
   "source": [
    "# 12. Implement a recursive function to compute the nth Fibonacci number."
   ]
  },
  {
   "cell_type": "code",
   "execution_count": 12,
   "id": "f6cd86b1",
   "metadata": {},
   "outputs": [],
   "source": [
    "#Answer:\n",
    "def fibonacci(n):\n",
    "    if n <= 0:\n",
    "       print(\"incorrect input pls correct\")\n",
    "    elif n == 1 or n == 2:\n",
    "        return 1\n",
    "    else:\n",
    "        return fibonacci(n - 1) + fibonacci(n - 2)"
   ]
  },
  {
   "cell_type": "code",
   "execution_count": 14,
   "id": "89d5e1a6",
   "metadata": {},
   "outputs": [
    {
     "name": "stdout",
     "output_type": "stream",
     "text": [
      "5\n"
     ]
    }
   ],
   "source": [
    "print(fibonacci(5))    #printing for nth fibonacci number"
   ]
  },
  {
   "cell_type": "markdown",
   "id": "4353adda",
   "metadata": {},
   "source": [
    "# 13. Create a recursive function to find the sum of all the elements in a given list."
   ]
  },
  {
   "cell_type": "code",
   "execution_count": 19,
   "id": "39e8b706",
   "metadata": {},
   "outputs": [],
   "source": [
    "#Answer:\n",
    "def list_sum(lst):\n",
    "    if len(lst) == 0:\n",
    "        return 0\n",
    "    else:\n",
    "        return lst[0] + list_sum(lst[1:]) \n",
    "#the function calculates the sum by adding the first element of the list lst[0] with the sum of the remaining elements\n",
    "#list_sum(lst[1:])"
   ]
  },
  {
   "cell_type": "code",
   "execution_count": 20,
   "id": "83fea412",
   "metadata": {},
   "outputs": [
    {
     "name": "stdout",
     "output_type": "stream",
     "text": [
      "The sum of the elements in the list is: 15\n"
     ]
    }
   ],
   "source": [
    "numbers = [1, 2, 3, 4, 5]\n",
    "result = list_sum(numbers)\n",
    "print(f\"The sum of the elements in the list is: {result}\")"
   ]
  },
  {
   "cell_type": "markdown",
   "id": "958ed652",
   "metadata": {},
   "source": [
    "# 14. Write a recursive function to determine whether a given string is a palindrome."
   ]
  },
  {
   "cell_type": "code",
   "execution_count": null,
   "id": "41d9ef0d",
   "metadata": {},
   "outputs": [],
   "source": [
    "Answer:\n",
    "A palindrome is a sequence of characters that, when reversed, would result in the exact same sequence of characters."
   ]
  },
  {
   "cell_type": "code",
   "execution_count": 1,
   "id": "22577bdc",
   "metadata": {},
   "outputs": [],
   "source": [
    "def palindrome(string):\n",
    "    if len(string) <= 1:\n",
    "        return True\n",
    "    elif string[0] != string[-1]:\n",
    "        return False\n",
    "    else:\n",
    "        return palindrome(string[1:-1])\n"
   ]
  },
  {
   "cell_type": "code",
   "execution_count": null,
   "id": "6c6c1a84",
   "metadata": {},
   "outputs": [],
   "source": [
    "string1 = \"OYO\"\n",
    "print(is_palindrome(string1))"
   ]
  },
  {
   "cell_type": "code",
   "execution_count": null,
   "id": "475e0bad",
   "metadata": {},
   "outputs": [],
   "source": [
    "string2 = \"Himanshu\"\n",
    "print(is_palindrome(string2))  "
   ]
  },
  {
   "cell_type": "markdown",
   "id": "fc2e1ac4",
   "metadata": {},
   "source": [
    "# 15. Implement a recursive function to find the greatest common divisor (GCD) of two positive integers."
   ]
  },
  {
   "cell_type": "code",
   "execution_count": 8,
   "id": "d3d254de",
   "metadata": {},
   "outputs": [],
   "source": [
    "#Answer:\n",
    "def gcd(num1,num2):\n",
    "    if(num2 == 0):\n",
    "        return num1\n",
    "    else:\n",
    "        return gcd(num2,num1%num2)"
   ]
  },
  {
   "cell_type": "code",
   "execution_count": null,
   "id": "0c40ede6",
   "metadata": {},
   "outputs": [],
   "source": [
    "num1 = int(input(\"Enter First Number : \"))\n",
    "num2 = int(input(\"Enter Second Number : \"))\n",
    "result = gcd(num1,num2)\n",
    "print(\"GCD is : {}\".format(result))"
   ]
  }
 ],
 "metadata": {
  "kernelspec": {
   "display_name": "Python 3 (ipykernel)",
   "language": "python",
   "name": "python3"
  },
  "language_info": {
   "codemirror_mode": {
    "name": "ipython",
    "version": 3
   },
   "file_extension": ".py",
   "mimetype": "text/x-python",
   "name": "python",
   "nbconvert_exporter": "python",
   "pygments_lexer": "ipython3",
   "version": "3.11.2"
  }
 },
 "nbformat": 4,
 "nbformat_minor": 5
}
