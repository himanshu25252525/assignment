{
 "cells": [
  {
   "cell_type": "markdown",
   "id": "3e9f10a3",
   "metadata": {},
   "source": [
    "# ASSIGNMENT 3"
   ]
  },
  {
   "cell_type": "markdown",
   "id": "436b40c3",
   "metadata": {},
   "source": [
    "# 1. Why are functions advantageous to have in your programs?"
   ]
  },
  {
   "cell_type": "code",
   "execution_count": null,
   "id": "bb56d7ca",
   "metadata": {},
   "outputs": [],
   "source": [
    "Answer:\n",
    "There are many advantages of using functions in our programs:-\n",
    "\n",
    "(i) It reduces duplication of code.\n",
    "(ii)Increases program readability and modularity.\n",
    "(iii)Reduces chances of error.\n",
    "(iv)It helps us in breaking down complex problems into simple and smaller problems."
   ]
  },
  {
   "cell_type": "markdown",
   "id": "1176f3bf",
   "metadata": {},
   "source": [
    "# 2. When does the code in a function run: when it&#39;s specified or when it&#39;s called?"
   ]
  },
  {
   "cell_type": "code",
   "execution_count": null,
   "id": "71adb618",
   "metadata": {},
   "outputs": [],
   "source": [
    "Answer:\n",
    "    The code in a function will run when we call our function."
   ]
  },
  {
   "cell_type": "markdown",
   "id": "aed86265",
   "metadata": {},
   "source": [
    "# 3. What statement creates a function?"
   ]
  },
  {
   "cell_type": "code",
   "execution_count": null,
   "id": "b5cfea0c",
   "metadata": {},
   "outputs": [],
   "source": [
    "Answer:\n",
    "we can create function with \"def\" statement."
   ]
  },
  {
   "cell_type": "markdown",
   "id": "e5c83290",
   "metadata": {},
   "source": [
    "# 4. What is the difference between a function and a function call?"
   ]
  },
  {
   "cell_type": "code",
   "execution_count": null,
   "id": "39ecda94",
   "metadata": {},
   "outputs": [],
   "source": [
    "Answer:\n",
    "\n",
    "A function is a block of a code which will perform some specific task it is created for and can return data.\n",
    "Function call is the way of calling the function which is already defined. It will execute the code written inside a function."
   ]
  },
  {
   "cell_type": "markdown",
   "id": "de500092",
   "metadata": {},
   "source": [
    "# 5. How many global scopes are there in a Python program? How many local scopes?"
   ]
  },
  {
   "cell_type": "code",
   "execution_count": null,
   "id": "2b4ccf05",
   "metadata": {},
   "outputs": [],
   "source": [
    "Answer:\n",
    "There is only one global scope in a python program.\n",
    "There will be n number of local scopes created whenever function is called."
   ]
  },
  {
   "cell_type": "markdown",
   "id": "d503e90a",
   "metadata": {},
   "source": [
    "# 6. What happens to variables in a local scope when the function call returns?"
   ]
  },
  {
   "cell_type": "code",
   "execution_count": null,
   "id": "ec96f0e2",
   "metadata": {},
   "outputs": [],
   "source": [
    "Answer:\n",
    "When the function returns, then all the local variables defined inside the function are destroyed and we can not access them\n",
    "anymore."
   ]
  },
  {
   "cell_type": "markdown",
   "id": "a2212d02",
   "metadata": {},
   "source": [
    "# 7. What is the concept of a return value? Is it possible to have a return value in an expression?"
   ]
  },
  {
   "cell_type": "code",
   "execution_count": null,
   "id": "f9cbdf4f",
   "metadata": {},
   "outputs": [],
   "source": [
    "Answer:\n",
    "We can return any value(list,tuple,dictionary,int,float,bool,complex) from the function back to our main program.\n",
    "We can return an expression from our function as well."
   ]
  },
  {
   "cell_type": "markdown",
   "id": "4eaa941a",
   "metadata": {},
   "source": [
    "# 8. If a function does not have a return statement, what is the return value of a call to that function?"
   ]
  },
  {
   "cell_type": "code",
   "execution_count": null,
   "id": "e22606c8",
   "metadata": {},
   "outputs": [],
   "source": [
    "Answer:\n",
    "If a function does not have a return statement then it's return value is None."
   ]
  },
  {
   "cell_type": "markdown",
   "id": "f8c283f0",
   "metadata": {},
   "source": [
    "# 9. How do you make a function variable refer to the global variable?"
   ]
  },
  {
   "cell_type": "code",
   "execution_count": null,
   "id": "9222728a",
   "metadata": {},
   "outputs": [],
   "source": [
    "Answer:\n",
    "If we want to refer a global variable in a function, we have to use global keyword with the globally declared variable inside a\n",
    "function."
   ]
  },
  {
   "cell_type": "markdown",
   "id": "c8733fc4",
   "metadata": {},
   "source": [
    "# 10. What is the data type of None?"
   ]
  },
  {
   "cell_type": "code",
   "execution_count": null,
   "id": "6610fbc4",
   "metadata": {},
   "outputs": [],
   "source": [
    "Answer:\n",
    "The data type of None is NoneType object. "
   ]
  },
  {
   "cell_type": "markdown",
   "id": "c9772108",
   "metadata": {},
   "source": [
    "# 11. What does the sentence import areallyourpetsnamederic do?"
   ]
  },
  {
   "cell_type": "code",
   "execution_count": null,
   "id": "28fba178",
   "metadata": {},
   "outputs": [],
   "source": [
    "Answer:\n",
    "This statement will import module named areallyourpetsnamederic.\n",
    "\n",
    "#(Python does not have this module it is assumed in this question)"
   ]
  },
  {
   "cell_type": "markdown",
   "id": "10f5fb92",
   "metadata": {},
   "source": [
    "# 12. If you had a bacon() feature in a spam module, what would you call it after importing spam?"
   ]
  },
  {
   "cell_type": "code",
   "execution_count": null,
   "id": "fec41f9f",
   "metadata": {},
   "outputs": [],
   "source": [
    "Answer:\n",
    "import spam\n",
    "spam.bacon()"
   ]
  },
  {
   "cell_type": "markdown",
   "id": "2f86d32f",
   "metadata": {},
   "source": [
    "# 13. What can you do to save a programme from crashing if it encounters an error?"
   ]
  },
  {
   "cell_type": "code",
   "execution_count": null,
   "id": "3ee1731c",
   "metadata": {},
   "outputs": [],
   "source": [
    "Answer:\n",
    "we will use exception handling by try and except block to save our program from crashing if it encounters an error."
   ]
  },
  {
   "cell_type": "markdown",
   "id": "495d9a54",
   "metadata": {},
   "source": [
    "# 14. What is the purpose of the try clause? What is the purpose of the except clause?"
   ]
  },
  {
   "cell_type": "code",
   "execution_count": null,
   "id": "e105bde2",
   "metadata": {},
   "outputs": [],
   "source": [
    "Answer:\n",
    "The purpose of the try clause is to enclose a block of code that you suspect may raise an exception.\n",
    "When the code inside the try block encounters an exception, the execution is immediately transferred to the except clause. \n",
    "The except clause specifies the type of exception it can handle. "
   ]
  }
 ],
 "metadata": {
  "kernelspec": {
   "display_name": "Python 3 (ipykernel)",
   "language": "python",
   "name": "python3"
  },
  "language_info": {
   "codemirror_mode": {
    "name": "ipython",
    "version": 3
   },
   "file_extension": ".py",
   "mimetype": "text/x-python",
   "name": "python",
   "nbconvert_exporter": "python",
   "pygments_lexer": "ipython3",
   "version": "3.11.2"
  }
 },
 "nbformat": 4,
 "nbformat_minor": 5
}
