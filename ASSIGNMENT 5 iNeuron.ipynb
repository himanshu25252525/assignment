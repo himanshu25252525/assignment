{
 "cells": [
  {
   "cell_type": "markdown",
   "id": "19238bc3",
   "metadata": {},
   "source": [
    "# ASSIGNMENT 5"
   ]
  },
  {
   "cell_type": "markdown",
   "id": "24f50063",
   "metadata": {},
   "source": [
    "# 1. What does an empty dictionary&#39;s code look like?"
   ]
  },
  {
   "cell_type": "markdown",
   "id": "95959a49",
   "metadata": {},
   "source": [
    "Answer:\n",
    "Empty dictionary looks like two curly brackets {}"
   ]
  },
  {
   "cell_type": "markdown",
   "id": "e46afc51",
   "metadata": {},
   "source": [
    "# 2. What is the value of a dictionary value with the key &#39;foo&#39; and the value 42?"
   ]
  },
  {
   "cell_type": "code",
   "execution_count": 1,
   "id": "dc43cc58",
   "metadata": {},
   "outputs": [
    {
     "name": "stdout",
     "output_type": "stream",
     "text": [
      "{'foo': 42}\n"
     ]
    }
   ],
   "source": [
    "#Answer:\n",
    "dic = {'foo' : 42}\n",
    "print(dic)"
   ]
  },
  {
   "cell_type": "markdown",
   "id": "9ea1db63",
   "metadata": {},
   "source": [
    "# 3. What is the most significant distinction between a dictionary and a list?"
   ]
  },
  {
   "cell_type": "code",
   "execution_count": null,
   "id": "dd739e39",
   "metadata": {},
   "outputs": [],
   "source": [
    "Answer:\n",
    "    Dictionary is an unordered collection of items and it stores item in key:value pair. we can access value by its keys.\n",
    "    List is an ordered collection of different types of elements, we access elements of list by its index value."
   ]
  },
  {
   "cell_type": "markdown",
   "id": "036fef45",
   "metadata": {},
   "source": [
    "# 4. What happens if you try to access spam[&#39;foo&#39;] if spam is {&#39;bar&#39;: 100}?"
   ]
  },
  {
   "cell_type": "code",
   "execution_count": 3,
   "id": "d94cd631",
   "metadata": {},
   "outputs": [],
   "source": [
    "#Answer:\n",
    "spam= {'bar': 100}"
   ]
  },
  {
   "cell_type": "code",
   "execution_count": 4,
   "id": "0f8844ac",
   "metadata": {},
   "outputs": [
    {
     "ename": "KeyError",
     "evalue": "'foo'",
     "output_type": "error",
     "traceback": [
      "\u001b[1;31m---------------------------------------------------------------------------\u001b[0m",
      "\u001b[1;31mKeyError\u001b[0m                                  Traceback (most recent call last)",
      "Cell \u001b[1;32mIn[4], line 1\u001b[0m\n\u001b[1;32m----> 1\u001b[0m \u001b[43mspam\u001b[49m\u001b[43m[\u001b[49m\u001b[38;5;124;43m'\u001b[39;49m\u001b[38;5;124;43mfoo\u001b[39;49m\u001b[38;5;124;43m'\u001b[39;49m\u001b[43m]\u001b[49m\n",
      "\u001b[1;31mKeyError\u001b[0m: 'foo'"
     ]
    }
   ],
   "source": [
    "spam['foo']    # We will get an KeyError"
   ]
  },
  {
   "cell_type": "markdown",
   "id": "1998f2f0",
   "metadata": {},
   "source": [
    "# 5. If a dictionary is stored in spam, what is the difference between the expressions &#39;cat&#39; in spam and &#39;cat&#39; in spam.keys()?"
   ]
  },
  {
   "cell_type": "code",
   "execution_count": null,
   "id": "50138fac",
   "metadata": {},
   "outputs": [],
   "source": [
    "Answer:\n",
    "    both 'cat' in spam and 'cat' in spam.keys() will check 'cat' as a key in the dictionary named spam.\n",
    "    if 'cat' is found as a key in spam both expression will return True and if not found as key both expressions will \n",
    "return False."
   ]
  },
  {
   "cell_type": "markdown",
   "id": "d55b3c03",
   "metadata": {},
   "source": [
    "# 6. If a dictionary is stored in spam, what is the difference between the expressions &#39;cat&#39; in spam and &#39;cat&#39; in spam.values()?"
   ]
  },
  {
   "cell_type": "code",
   "execution_count": null,
   "id": "5b02b2e6",
   "metadata": {},
   "outputs": [],
   "source": [
    "Answer:\n",
    "'cat' in spam checks whether there is a 'cat' key in the dictionary   # spam ={'cat':100} #It will give true\n",
    "'cat' in spam.values() checks whether there is a value 'cat' for one of the keys in spam."
   ]
  },
  {
   "cell_type": "code",
   "execution_count": 5,
   "id": "aaaccbbb",
   "metadata": {},
   "outputs": [
    {
     "data": {
      "text/plain": [
       "False"
      ]
     },
     "execution_count": 5,
     "metadata": {},
     "output_type": "execute_result"
    }
   ],
   "source": [
    "spam ={'cat':100}\n",
    "'cat' in spam.values()"
   ]
  },
  {
   "cell_type": "markdown",
   "id": "ca8aabc8",
   "metadata": {},
   "source": [
    "# 7. What is a shortcut for the following code?\n",
    "if &#39;color&#39; not in spam:\n",
    "\n",
    "spam[&#39;color&#39;] = &#39;black&#39;"
   ]
  },
  {
   "cell_type": "code",
   "execution_count": null,
   "id": "a2216dce",
   "metadata": {},
   "outputs": [],
   "source": [
    "Answer:\n",
    "spam.setdefault('color','black')\n"
   ]
  },
  {
   "cell_type": "markdown",
   "id": "7d15e234",
   "metadata": {},
   "source": [
    "# 8. How do you &quot;pretty print&quot; dictionary values using which module and function?"
   ]
  },
  {
   "cell_type": "code",
   "execution_count": null,
   "id": "f8e20577",
   "metadata": {},
   "outputs": [],
   "source": [
    "Answer:\n",
    "import pprint\n",
    "pprint.pprint(d)\n",
    "\n",
    "pprint function present in the pprint module can be used to pretty print the dictionary values."
   ]
  }
 ],
 "metadata": {
  "kernelspec": {
   "display_name": "Python 3 (ipykernel)",
   "language": "python",
   "name": "python3"
  },
  "language_info": {
   "codemirror_mode": {
    "name": "ipython",
    "version": 3
   },
   "file_extension": ".py",
   "mimetype": "text/x-python",
   "name": "python",
   "nbconvert_exporter": "python",
   "pygments_lexer": "ipython3",
   "version": "3.11.2"
  }
 },
 "nbformat": 4,
 "nbformat_minor": 5
}
