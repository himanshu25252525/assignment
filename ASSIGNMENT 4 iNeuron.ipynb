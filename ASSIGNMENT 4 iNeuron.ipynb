{
 "cells": [
  {
   "cell_type": "markdown",
   "id": "de0804db",
   "metadata": {},
   "source": [
    "# ASSIGNMENT 4"
   ]
  },
  {
   "cell_type": "markdown",
   "id": "0634c2e6",
   "metadata": {},
   "source": [
    "# 1. What exactly is []?"
   ]
  },
  {
   "cell_type": "code",
   "execution_count": null,
   "id": "597e226b",
   "metadata": {},
   "outputs": [],
   "source": [
    "Answer:\n",
    "    [] this is known as empty list that doesn't contain any element inside it.\n",
    "    We can put any data type inside the list."
   ]
  },
  {
   "cell_type": "markdown",
   "id": "f28a3054",
   "metadata": {},
   "source": [
    "# 2. In a list of values stored in a variable called spam, how would you assign the value 'hello' as the third value? (Assume [2, 4, 6, 8, 10] are in spam.)\n"
   ]
  },
  {
   "cell_type": "code",
   "execution_count": 1,
   "id": "47889162",
   "metadata": {},
   "outputs": [
    {
     "name": "stdout",
     "output_type": "stream",
     "text": [
      "[2, 4, 'hello', 8, 10]\n"
     ]
    }
   ],
   "source": [
    "#Answer:\n",
    "spam = [2,4,6,8,10]\n",
    "spam[2] = \"hello\" # Here we assign third value as \"hello\"\n",
    "print(spam)"
   ]
  },
  {
   "cell_type": "code",
   "execution_count": 4,
   "id": "9596c1f8",
   "metadata": {},
   "outputs": [
    {
     "name": "stdout",
     "output_type": "stream",
     "text": [
      "[2, 4, 'hello', 6, 8, 10]\n"
     ]
    }
   ],
   "source": [
    "#ANOTHER METHOD\n",
    "spam = [2,4,6,8,10]\n",
    "spam.insert(2, 'hello')  # Here we insert 'hello' in the 3rd index\n",
    "print(spam)"
   ]
  },
  {
   "cell_type": "markdown",
   "id": "3fb5c330",
   "metadata": {},
   "source": [
    "# Let's pretend the spam includes the list ['a', 'b', 'c', 'd'] for the next three queries.\n",
    "# 3. What is the value of spam[int(int('3' * 2) / 11)]?"
   ]
  },
  {
   "cell_type": "code",
   "execution_count": 7,
   "id": "dd54c6cd",
   "metadata": {},
   "outputs": [
    {
     "data": {
      "text/plain": [
       "'d'"
      ]
     },
     "execution_count": 7,
     "metadata": {},
     "output_type": "execute_result"
    }
   ],
   "source": [
    "#Answer:\n",
    "spam = ['a', 'b', 'c', 'd']\n",
    "spam[int(int('3' * 2) / 11)] \n",
    "spam[int(int('33')/11)]\n",
    "spam[int(33/11)]\n",
    "spam[3]\n",
    "\n",
    "# Hence, the value at third index spam[3] is 'd'"
   ]
  },
  {
   "cell_type": "markdown",
   "id": "819aca32",
   "metadata": {},
   "source": [
    "# 4. What is the value of spam[-1]?"
   ]
  },
  {
   "cell_type": "code",
   "execution_count": 8,
   "id": "f8dd59e3",
   "metadata": {},
   "outputs": [
    {
     "name": "stdout",
     "output_type": "stream",
     "text": [
      "d\n"
     ]
    }
   ],
   "source": [
    "#Answer:\n",
    "spam = ['a', 'b', 'c', 'd']\n",
    "print(spam[-1])  #It will give last element of the list reason negative indexing"
   ]
  },
  {
   "cell_type": "markdown",
   "id": "4d7a4f92",
   "metadata": {},
   "source": [
    "# 5. What is the value of spam[:2]?"
   ]
  },
  {
   "cell_type": "code",
   "execution_count": 9,
   "id": "2761d9a9",
   "metadata": {},
   "outputs": [
    {
     "name": "stdout",
     "output_type": "stream",
     "text": [
      "['a', 'b']\n"
     ]
    }
   ],
   "source": [
    "#Answer:\n",
    "spam = ['a', 'b', 'c', 'd']\n",
    "print(spam[:2]) #It will start from 0th index and goes till 1st index "
   ]
  },
  {
   "cell_type": "markdown",
   "id": "229d5da4",
   "metadata": {},
   "source": [
    "# Let's pretend bacon has the list [3.14, 'cat' 11, 'cat' True] for the next three questions.\n",
    "# 6. What is the value of bacon.index(&#39;cat&#39;)?"
   ]
  },
  {
   "cell_type": "code",
   "execution_count": 11,
   "id": "c96a8357",
   "metadata": {},
   "outputs": [
    {
     "data": {
      "text/plain": [
       "1"
      ]
     },
     "execution_count": 11,
     "metadata": {},
     "output_type": "execute_result"
    }
   ],
   "source": [
    "#Answer:\n",
    "bacon = [3.14, 'cat', 11, 'cat', True]\n",
    "bacon.index('cat')   #It will give 1 due to first preference of 'cat'"
   ]
  },
  {
   "cell_type": "markdown",
   "id": "39a22573",
   "metadata": {},
   "source": [
    "# 7. How does bacon.append(99) change the look of the list value in bacon?"
   ]
  },
  {
   "cell_type": "code",
   "execution_count": 14,
   "id": "a09a2451",
   "metadata": {},
   "outputs": [
    {
     "name": "stdout",
     "output_type": "stream",
     "text": [
      "[3.14, 'cat', 11, 'cat', True, 99]\n"
     ]
    }
   ],
   "source": [
    "#Answer:\n",
    "bacon = [3.14, 'cat', 11, 'cat', True]\n",
    "bacon.append(99)  # Here append is used to add element in the last of list\n",
    "print(bacon)"
   ]
  },
  {
   "cell_type": "markdown",
   "id": "67c5b4df",
   "metadata": {},
   "source": [
    "# 8. How does bacon.remove('cat') change the look of the list in bacon?"
   ]
  },
  {
   "cell_type": "code",
   "execution_count": 15,
   "id": "bbfe5153",
   "metadata": {},
   "outputs": [
    {
     "name": "stdout",
     "output_type": "stream",
     "text": [
      "[3.14, 11, 'cat', True]\n"
     ]
    }
   ],
   "source": [
    "#Answer:\n",
    "bacon = [3.14, 'cat', 11, 'cat', True]\n",
    "bacon.remove('cat')  # It will remove the first occurence of \"cat\" value from the list.\n",
    "print(bacon)\n",
    "    "
   ]
  },
  {
   "cell_type": "markdown",
   "id": "c55fb8bf",
   "metadata": {},
   "source": [
    "# 9. What are the list concatenation and list replication operators?"
   ]
  },
  {
   "cell_type": "markdown",
   "id": "b3bd967f",
   "metadata": {},
   "source": [
    "Answer:\n",
    "List concatenation can be done by using + operator. It will concatenate two list and it will give result as single result.\n"
   ]
  },
  {
   "cell_type": "code",
   "execution_count": 16,
   "id": "3ad18511",
   "metadata": {},
   "outputs": [
    {
     "data": {
      "text/plain": [
       "[1, 2, 3, 4]"
      ]
     },
     "execution_count": 16,
     "metadata": {},
     "output_type": "execute_result"
    }
   ],
   "source": [
    "a = [1,2]\n",
    "b = [3,4]\n",
    "# list concatenation\n",
    "a+b"
   ]
  },
  {
   "cell_type": "markdown",
   "id": "b1439b69",
   "metadata": {},
   "source": [
    "List replication can be done by using * operator. It will replicate a list n times by using this operator and will give a\n",
    "single list as a output."
   ]
  },
  {
   "cell_type": "code",
   "execution_count": 17,
   "id": "2c474ab7",
   "metadata": {},
   "outputs": [
    {
     "data": {
      "text/plain": [
       "[1, 2, 1, 2, 1, 2]"
      ]
     },
     "execution_count": 17,
     "metadata": {},
     "output_type": "execute_result"
    }
   ],
   "source": [
    "a = [1,2]\n",
    "# list replication\n",
    "a * 3"
   ]
  },
  {
   "cell_type": "markdown",
   "id": "98b8e145",
   "metadata": {},
   "source": [
    "# 10. What is difference between the list methods append() and insert()?"
   ]
  },
  {
   "cell_type": "markdown",
   "id": "1bf3e570",
   "metadata": {},
   "source": [
    "Answer:\n",
    "1) append() method will append new value at the end of the list. It takes only one argument which is value.\n"
   ]
  },
  {
   "cell_type": "code",
   "execution_count": 18,
   "id": "73060524",
   "metadata": {},
   "outputs": [
    {
     "name": "stdout",
     "output_type": "stream",
     "text": [
      "[1, 2, 3, 4, 5, 99]\n"
     ]
    }
   ],
   "source": [
    "\n",
    "a = [1,2,3,4,5]\n",
    "a.append(99)\n",
    "print(a)"
   ]
  },
  {
   "cell_type": "markdown",
   "id": "759f79e7",
   "metadata": {},
   "source": [
    "2) insert() method will add new data into the list at any specific index. It takes two arguments i.e index and value.\n"
   ]
  },
  {
   "cell_type": "code",
   "execution_count": 19,
   "id": "c9dcba66",
   "metadata": {},
   "outputs": [
    {
     "name": "stdout",
     "output_type": "stream",
     "text": [
      "[1, 2, 3, 33, 4, 5]\n"
     ]
    }
   ],
   "source": [
    "b = [1,2,3,4,5]\n",
    "b.insert(3,33)\n",
    "print(b)          "
   ]
  },
  {
   "cell_type": "markdown",
   "id": "dbe86446",
   "metadata": {},
   "source": [
    "# 11. What are the two methods for removing items from a list?"
   ]
  },
  {
   "cell_type": "code",
   "execution_count": null,
   "id": "3d19831b",
   "metadata": {},
   "outputs": [],
   "source": [
    "Answer:\n",
    "remove(item) - removes first occurence of a item in a list.\n",
    "\n",
    "l = [1, 2, 3, 99, 4, 5, 99]\n",
    "l.remove(99)\n",
    "print(l)      #output will be [1,2,3,4,5,99]\n",
    "\n",
    "pop()- method will remove an element from the list based on the given index.\n",
    "\n",
    "l = [1, 2, 3, 4, 5, 99]\n",
    "l.pop(-1)\n",
    "print(l)   #output will be [1,2,3,4,5]"
   ]
  },
  {
   "cell_type": "markdown",
   "id": "40265b78",
   "metadata": {},
   "source": [
    "# 12. Describe how list values and string values are identical."
   ]
  },
  {
   "cell_type": "markdown",
   "id": "3c183e0f",
   "metadata": {},
   "source": [
    "Answer:\n",
    "1. Both lists and strings can be passed to len()\n",
    "2. Have indexes and slices\n",
    "3. Can be used in for loops\n",
    "4. Can be concatenated or replicated\n",
    "5. Can be used with the in and not in operators"
   ]
  },
  {
   "cell_type": "markdown",
   "id": "98ce9816",
   "metadata": {},
   "source": [
    "# 13. What&#39;s the difference between tuples and lists?"
   ]
  },
  {
   "cell_type": "markdown",
   "id": "36406d5b",
   "metadata": {},
   "source": [
    "Answer:\n",
    "The main difference between tuples and lists is tuples are immutable whereas lists are mutable, i.e we can overwrite \\\n",
    "any value with other value in lists whereas In tuple we can not perform this operation.\n",
    "\n",
    "List items are enclosed within [] brackets whereas tuples items are enclosed within () brackets."
   ]
  },
  {
   "cell_type": "markdown",
   "id": "51677de0",
   "metadata": {},
   "source": [
    "# 14. How do you type a tuple value that only contains the integer 42?"
   ]
  },
  {
   "cell_type": "markdown",
   "id": "ab7795d1",
   "metadata": {},
   "source": [
    "Answer:\n",
    "    (42,)\n",
    "    "
   ]
  },
  {
   "cell_type": "markdown",
   "id": "135e6af1",
   "metadata": {},
   "source": [
    "# 15. How do you get a list value&#39;s tuple form? How do you get a tuple value&#39;s list form?"
   ]
  },
  {
   "cell_type": "markdown",
   "id": "b89a3a94",
   "metadata": {},
   "source": [
    "Answer:\n",
    "we can use tuple() function to get list values in tuple form and list() function to get tuple values in list form.\n",
    "\n",
    "Example:-\n",
    "\n",
    "t = (1,2,3)\n",
    "list(t)\n",
    "\n",
    "Output\n",
    "[1,2,3]\n",
    "______________\n",
    "\n",
    "l = [1,2,3]\n",
    "tuple(l)\n",
    "\n",
    "Output\n",
    "(1,2,3)"
   ]
  },
  {
   "cell_type": "markdown",
   "id": "bdc0addd",
   "metadata": {},
   "source": [
    "# 16. Variables that &quot;contain&quot; list values are not necessarily lists themselves. Instead, what do they contain?"
   ]
  },
  {
   "cell_type": "markdown",
   "id": "d6d66dbc",
   "metadata": {},
   "source": [
    "Answer:\n",
    "They contain references to list values."
   ]
  },
  {
   "cell_type": "markdown",
   "id": "0b02a9d4",
   "metadata": {},
   "source": [
    "# 17. How do you distinguish between copy.copy() and copy.deepcopy()?"
   ]
  },
  {
   "cell_type": "markdown",
   "id": "7b105d87",
   "metadata": {},
   "source": [
    "Answer:\n",
    "A shallow copy or copy() method doesn't create a copy of nested objects, instead it just copies the reference of nested objects.\n",
    "\n",
    "A deep copy (copy.deepcopy()) creates a new object and recursively adds the copies of nested objects present in the original \n",
    "elements.\n"
   ]
  }
 ],
 "metadata": {
  "kernelspec": {
   "display_name": "Python 3 (ipykernel)",
   "language": "python",
   "name": "python3"
  },
  "language_info": {
   "codemirror_mode": {
    "name": "ipython",
    "version": 3
   },
   "file_extension": ".py",
   "mimetype": "text/x-python",
   "name": "python",
   "nbconvert_exporter": "python",
   "pygments_lexer": "ipython3",
   "version": "3.11.2"
  }
 },
 "nbformat": 4,
 "nbformat_minor": 5
}
