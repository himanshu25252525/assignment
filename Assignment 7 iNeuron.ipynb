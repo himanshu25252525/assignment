{
 "cells": [
  {
   "cell_type": "markdown",
   "id": "4fd2d4c7",
   "metadata": {},
   "source": [
    "# ASSIGNMENT 7"
   ]
  },
  {
   "cell_type": "markdown",
   "id": "74389c04",
   "metadata": {},
   "source": [
    "# Q.1. Create two int type variables, apply addition, subtraction, division and multiplications and store the results in variables. Then print the data in the following format by calling the variables:\n",
    "First variable is __ & second variable is __.\n",
    "Addition: __ + __ = __\n",
    "Subtraction: __ - __ = __\n",
    "Multiplication: __ * __ = __\n",
    "Division: __ / __ = __"
   ]
  },
  {
   "cell_type": "code",
   "execution_count": 1,
   "id": "f7d63f31",
   "metadata": {},
   "outputs": [],
   "source": [
    "#Answer:\n",
    "var1 = 10\n",
    "var2 = 5\n",
    "\n",
    "# Performing the given operations\n",
    "addition = var1 + var2\n",
    "subtraction = var1 - var2\n",
    "multiplication = var1 * var2\n",
    "division = var1 / var2\n",
    "\n"
   ]
  },
  {
   "cell_type": "code",
   "execution_count": 2,
   "id": "77bd053d",
   "metadata": {},
   "outputs": [
    {
     "name": "stdout",
     "output_type": "stream",
     "text": [
      "First variable is 10 & second variable is 5.\n",
      "Addition: 10 + 5 = 15\n",
      "Subtraction: 10 - 5 = 5\n",
      "Multiplication: 10 * 5 = 50\n",
      "Division: 10 / 5 = 2.0\n"
     ]
    }
   ],
   "source": [
    "print(f\"First variable is {var1} & second variable is {var2}.\")\n",
    "print(f\"Addition: {var1} + {var2} = {addition}\")\n",
    "print(f\"Subtraction: {var1} - {var2} = {subtraction}\")\n",
    "print(f\"Multiplication: {var1} * {var2} = {multiplication}\")\n",
    "print(f\"Division: {var1} / {var2} = {division}\")"
   ]
  },
  {
   "cell_type": "markdown",
   "id": "97df5ceb",
   "metadata": {},
   "source": [
    "# Q.2. What is the difference between the following operators:\n",
    "(i) ‘/’ & ‘//’\n",
    "\n",
    "(ii) ‘**’ & ‘^’"
   ]
  },
  {
   "cell_type": "code",
   "execution_count": null,
   "id": "519b15f7",
   "metadata": {},
   "outputs": [],
   "source": [
    "Answer:\n",
    "(i) '/' and '//':\n",
    "'/' is the division operator in Python. For example: x = 12 y = 3 after dision the result will be 4.\n",
    "    \n",
    "'//' is the floor division operator in Python. The floor division // rounds the result down to the nearest whole number.\n",
    "For example: x = 15 y = 2 after division the result will be 7.\n",
    "    \n",
    "    \n",
    "(ii) '**' and '^':\n",
    "'**' is the exponentiation operator in Python. It raises the left operand to the power of the right operand. \n",
    "For example: 2 ** 3 would result in 8 because 2 raised to the power of 3 is 8.\n",
    "    \n",
    "'^' is a Bitwise operator in Python.The ^ operator compares each bit and set it to 1 if only one is 1, otherwise (if both are \n",
    "1 or both are 0) it is set to 0.\n",
    "\n"
   ]
  },
  {
   "cell_type": "markdown",
   "id": "07d32033",
   "metadata": {},
   "source": [
    "# Q.3. List the logical operators."
   ]
  },
  {
   "cell_type": "code",
   "execution_count": null,
   "id": "45bea5ae",
   "metadata": {},
   "outputs": [],
   "source": [
    "Answer:\n",
    "Logical operators are: AND , OR, NOT"
   ]
  },
  {
   "cell_type": "markdown",
   "id": "74e29481",
   "metadata": {},
   "source": [
    "# Q.4. Explain right shift operator and left shift operator with examples."
   ]
  },
  {
   "cell_type": "code",
   "execution_count": null,
   "id": "08f43c9e",
   "metadata": {},
   "outputs": [],
   "source": [
    "Answer:\n",
    "1)Right Shift (>>):The >> operator moves each bit the specified number of times to the right. Empty holes at the left are filled\n",
    "with 0's.\n",
    "If you move each bit 2 times to the right, 8 becomes 2:\n",
    "8 = 0000000000001000\n",
    "becomes\n",
    "2 = 0000000000000010\n",
    "\n",
    "2)Left Shift (<<):The << operator inserts the specified number of 0's (in this case 2) from the right and let the same amount of\n",
    "leftmost bits fall off.\n",
    "If you push 00 in from the left:\n",
    "3 = 0000000000000011\n",
    "becomes\n",
    "12 = 0000000000001100\n"
   ]
  },
  {
   "cell_type": "markdown",
   "id": "e4e2d01d",
   "metadata": {},
   "source": [
    "# Q.5. Create a list containing int type data of length 15. Then write a code to check if 10 is present in the list or not."
   ]
  },
  {
   "cell_type": "code",
   "execution_count": 10,
   "id": "6ea3944d",
   "metadata": {},
   "outputs": [
    {
     "name": "stdout",
     "output_type": "stream",
     "text": [
      "10 is present in the list\n"
     ]
    }
   ],
   "source": [
    "#Answer:\n",
    "my_list = [1, 3, 5, 7, 9, 10, 12, 14, 16, 18, 20, 22, 24, 26, 28]\n",
    "\n",
    "if 10 in my_list:       \n",
    "    print(\"10 is present in the list\")\n",
    "else:\n",
    "    print(\"10 is not present in the list\")\n"
   ]
  }
 ],
 "metadata": {
  "kernelspec": {
   "display_name": "Python 3 (ipykernel)",
   "language": "python",
   "name": "python3"
  },
  "language_info": {
   "codemirror_mode": {
    "name": "ipython",
    "version": 3
   },
   "file_extension": ".py",
   "mimetype": "text/x-python",
   "name": "python",
   "nbconvert_exporter": "python",
   "pygments_lexer": "ipython3",
   "version": "3.11.2"
  }
 },
 "nbformat": 4,
 "nbformat_minor": 5
}
