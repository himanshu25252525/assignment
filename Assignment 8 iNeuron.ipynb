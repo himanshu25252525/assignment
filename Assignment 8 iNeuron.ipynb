{
 "cells": [
  {
   "cell_type": "markdown",
   "id": "f3c7e925",
   "metadata": {},
   "source": [
    "# ASSIGNMENT 8"
   ]
  },
  {
   "cell_type": "markdown",
   "id": "89a57d86",
   "metadata": {},
   "source": [
    "# 1. In Python, what is the difference between a built-in function and a user-defined function? Provide an example of each."
   ]
  },
  {
   "cell_type": "code",
   "execution_count": null,
   "id": "a8145849",
   "metadata": {},
   "outputs": [],
   "source": [
    "Answer:\n",
    "1)Built-in function: In python, built-in function is a function provided by python language itself it doesn not require any\n",
    "additional codes. They are used for performing mathematical operations, working with data types and much more. "
   ]
  },
  {
   "cell_type": "code",
   "execution_count": 22,
   "id": "aef104a1",
   "metadata": {},
   "outputs": [
    {
     "name": "stdout",
     "output_type": "stream",
     "text": [
      "5\n"
     ]
    }
   ],
   "source": [
    "# EXAMPLE OF BUILT-IN FUNCTION:\n",
    "\n",
    "numbers = [1, 2, 3, 4, 5]\n",
    "length = len(numbers)                #len is a built-in function, for calculating length of the list\n",
    "print(length)\n"
   ]
  },
  {
   "cell_type": "code",
   "execution_count": null,
   "id": "e2510f34",
   "metadata": {},
   "outputs": [],
   "source": [
    "2)User-defined function: In python, user-defined function is a function that has created by user to perform specific tasks. This\n",
    "can be written using def keyword followed by a function name."
   ]
  },
  {
   "cell_type": "code",
   "execution_count": 14,
   "id": "e5190856",
   "metadata": {},
   "outputs": [
    {
     "name": "stdout",
     "output_type": "stream",
     "text": [
      "the student is Himanshu and lastname is yadav.\n"
     ]
    }
   ],
   "source": [
    "# EXAMPLE OF USER-DEFINED FUNCTION:\n",
    "def student(name, last_name):            # function student is created by user \n",
    "    print(f\"the student is {name} and lastname is {last_name}.\")\n",
    "    \n",
    "student(\"Himanshu\", \"yadav\")"
   ]
  },
  {
   "cell_type": "markdown",
   "id": "2c64e0c9",
   "metadata": {},
   "source": [
    "# 2. How can you pass arguments to a function in Python? Explain the difference between positional arguments and keyword arguments."
   ]
  },
  {
   "cell_type": "code",
   "execution_count": null,
   "id": "c498b184",
   "metadata": {},
   "outputs": [],
   "source": [
    "Answer:\n",
    "We can pass arguments to a function by including them within the parentheses () when calling the function.\n",
    "\n",
    "1)Positional arguments:\n",
    "Positional arguments are arguments that are passed to a function in the order they are defined in the function's parameter list.\n",
    "They have same match as the parameters are defined by the function.\n",
    "\n",
    "Example:\n",
    "def student(name, last_name): \n",
    "    print(f\"the student is {name} and lastname is {last_name}.\")\n",
    "    \n",
    "student(\"Himanshu\", \"Yadav\")            #here we are passing positional arguments\n",
    "\n",
    "________________________________________________________________________________________________________________________________\n",
    "2)Keyword arguments:\n",
    "Keyword arguments are values that, when passed into a function they are identified by their specific parameter names. The order \n",
    "of this cannot matter.\n",
    "\n",
    "Example:\n",
    "def fsds(name, classes):\n",
    "    print(name, \"is a student of \", classes)\n",
    "\n",
    "fsds(name = \"Himanshu\", classes = \"iNeuron\")    #here we have declared the parameters name"
   ]
  },
  {
   "cell_type": "markdown",
   "id": "169a41ed",
   "metadata": {},
   "source": [
    "# 3. What is the purpose of the return statement in a function? Can a function have multiple return statements? Explain with an example."
   ]
  },
  {
   "cell_type": "code",
   "execution_count": null,
   "id": "6aab39d2",
   "metadata": {},
   "outputs": [],
   "source": [
    "Answer:\n",
    "The python return statement is used to return values from the function. We can use the return statement in a function only.\n",
    "The statements after the return statements are not executed.\n",
    "\n",
    "A function can have multiple return statements, but only one return statement is executed during the function's execution. When\n",
    "a return statement is encountered, the function stops executing and the specified value is returned."
   ]
  },
  {
   "cell_type": "code",
   "execution_count": null,
   "id": "e60a9826",
   "metadata": {},
   "outputs": [
    {
     "name": "stdout",
     "output_type": "stream",
     "text": [
      "Positive\n",
      "Negative\n",
      "Zero\n"
     ]
    }
   ],
   "source": [
    "# Example:\n",
    "def check_number(num):\n",
    "    if num > 0:\n",
    "        return \"Positive\"          #Here we have use 3 times return \n",
    "    elif num < 0:\n",
    "        return \"Negative\"\n",
    "    else:\n",
    "        return \"Zero\"\n",
    "\n",
    "result1 = check_number(10)\n",
    "result2 = check_number(-5)\n",
    "result3 = check_number(0)\n",
    "\n",
    "print(result1) \n",
    "print(result2) \n",
    "print(result3) \n"
   ]
  },
  {
   "cell_type": "markdown",
   "id": "5a2b635f",
   "metadata": {},
   "source": [
    "# 4. What are lambda functions in Python? How are they different from regular functions? Provide an example where a lambda function can be useful."
   ]
  },
  {
   "cell_type": "code",
   "execution_count": null,
   "id": "d7a5c67c",
   "metadata": {},
   "outputs": [],
   "source": [
    "Answer:\n",
    "Python Lambda Functions are anonymous function means that the function does not have any name.They are created using the lambda\n",
    "keyword, they have only one expression.\n",
    "\n",
    "Differences between lambda and regular function are:\n",
    "1)lambda do not have specific name, as regular function is defined with def keyword.\n",
    "2)lambda function only contains single expression, while regular functions use block of statements.\n",
    "3)There is no return keyword defined explicitly because the lambda function does return an object by default.\n",
    "4)These functions do not have parenthesis like the def defined functions."
   ]
  },
  {
   "cell_type": "code",
   "execution_count": null,
   "id": "9e1cae53",
   "metadata": {},
   "outputs": [
    {
     "name": "stdout",
     "output_type": "stream",
     "text": [
      "25\n"
     ]
    }
   ],
   "source": [
    "#Example:\n",
    "square = lambda x: x ** 2\n",
    "print(square(5))  \n"
   ]
  },
  {
   "cell_type": "markdown",
   "id": "4fdb8f0c",
   "metadata": {},
   "source": [
    "# 5. How does the concept of \"scope\" apply to functions in Python? Explain the difference between local scope and global scope."
   ]
  },
  {
   "cell_type": "code",
   "execution_count": null,
   "id": "51a40c34",
   "metadata": {},
   "outputs": [],
   "source": [
    "Answer:\n",
    "In Python, the concept of \"scope\" refers to the visibility and accessibility of variables within different parts of a program. \n",
    "The scope determines which parts of the code can access or modify a particular variable.\n",
    "\n",
    "Differences:\n",
    "1)Global variables are declared outside the functions whereas local variables are declared within the functions.\n",
    "2)Global variables can be defined using global Keyword whereas local variables can be defined directly.\n",
    "3)Local variables cannot be accessed outside of the function whereas global variables are accessible from anywhere of the\n",
    "program including inside functions.\n"
   ]
  },
  {
   "cell_type": "markdown",
   "id": "733de3fa",
   "metadata": {},
   "source": [
    "# 6. How can you use the \"return\" statement in a Python function to return multiple values?"
   ]
  },
  {
   "cell_type": "code",
   "execution_count": null,
   "id": "84628c31",
   "metadata": {},
   "outputs": [],
   "source": [
    "Answer:\n",
    "In Python the return statement in a function can be used to return multiple values by combining them into a tuple, list, or \n",
    "dictionary. "
   ]
  },
  {
   "cell_type": "code",
   "execution_count": null,
   "id": "31dcaf21",
   "metadata": {},
   "outputs": [
    {
     "name": "stdout",
     "output_type": "stream",
     "text": [
      "('Himanshu', 21)\n",
      "Himanshu\n",
      "21\n"
     ]
    }
   ],
   "source": [
    "#Returning statement for tuple:\n",
    "def get_info():\n",
    "    name = \"Himanshu\"\n",
    "    age = 21\n",
    "    return name, age\n",
    "\n",
    "result = get_info()\n",
    "print(result)\n",
    "print(result[0]) \n",
    "print(result[1])"
   ]
  },
  {
   "cell_type": "code",
   "execution_count": null,
   "id": "60213fea",
   "metadata": {},
   "outputs": [
    {
     "name": "stdout",
     "output_type": "stream",
     "text": [
      "[1, 2, 3, 4, 5]\n",
      "1\n",
      "2\n"
     ]
    }
   ],
   "source": [
    "#Returning statement for list:\n",
    "def numbers():\n",
    "    return [1, 2, 3, 4, 5]\n",
    "\n",
    "result = numbers()\n",
    "print(result)  \n",
    "print(result[0])  \n",
    "print(result[1])"
   ]
  },
  {
   "cell_type": "code",
   "execution_count": 12,
   "id": "04484223",
   "metadata": {},
   "outputs": [
    {
     "name": "stdout",
     "output_type": "stream",
     "text": [
      "{'name': 'Himanshu', 'age': 21}\n",
      "Himanshu\n",
      "21\n"
     ]
    }
   ],
   "source": [
    "#Returning statement for dictionary:\n",
    "def person():\n",
    "    return {\"name\": \"Himanshu\", \"age\": 21,}\n",
    "\n",
    "result = person()\n",
    "print(result)  \n",
    "print(result[\"name\"])  \n",
    "print(result[\"age\"]) \n"
   ]
  },
  {
   "cell_type": "markdown",
   "id": "c18d981a",
   "metadata": {},
   "source": [
    "# 7. What is the difference between the \"pass by value\" and \"pass by reference\" concepts when it comes to function arguments in Python?"
   ]
  },
  {
   "cell_type": "code",
   "execution_count": null,
   "id": "f9c73187",
   "metadata": {},
   "outputs": [],
   "source": [
    "Answer:\n",
    "1)Pass by Value:\n",
    "When you pass a variable as an argument to a function, a copy of the value is made and assigned to a new variable within the \n",
    "function scope. Any modifications made to the parameter variable within the function do not affect the original variable outside\n",
    "the function.\n",
    "\n",
    "2)Pass by Reference:\n",
    "When you pass a variable as an argument to a function, the memory address (reference) of the variable is passed. This means that\n",
    "any changes made to the parameter variable within the function will directly affect the original variable outside the function."
   ]
  },
  {
   "cell_type": "markdown",
   "id": "90e8b01c",
   "metadata": {},
   "source": [
    "# 8. Create a function that can intake integer or decimal value and do following operations:\n",
    "a. Logarithmic function (log x)\n",
    "\n",
    "b. Exponential function (exp(x))\n",
    "\n",
    "c. Power function with base 2 (2\n",
    "x\n",
    ")\n",
    "\n",
    "d. Square root"
   ]
  },
  {
   "cell_type": "code",
   "execution_count": 15,
   "id": "ccae3f85",
   "metadata": {},
   "outputs": [],
   "source": [
    "#Answer:\n",
    "import math                   #we have imported math module for all mathematical operations\n",
    "\n",
    "def operations(x):\n",
    "    Logarithmic = math.log(x)\n",
    "    Exponential = math.exp(x)\n",
    "    Power = math.pow(2, x)\n",
    "    Square_root = math.sqrt(x)\n",
    "    \n",
    "    return Logarithmic, Exponential, Power, Square_root"
   ]
  },
  {
   "cell_type": "code",
   "execution_count": 16,
   "id": "79b72226",
   "metadata": {},
   "outputs": [
    {
     "name": "stdout",
     "output_type": "stream",
     "text": [
      "(1.3862943611198906, 54.598150033144236, 16.0, 2.0)\n"
     ]
    }
   ],
   "source": [
    "result_integer = operations(4)\n",
    "print(result_integer)"
   ]
  },
  {
   "cell_type": "code",
   "execution_count": 17,
   "id": "7ce3fa01",
   "metadata": {},
   "outputs": [
    {
     "name": "stdout",
     "output_type": "stream",
     "text": [
      "(0.4054651081081644, 4.4816890703380645, 2.8284271247461903, 1.224744871391589)\n"
     ]
    }
   ],
   "source": [
    "result_decimal = operations(1.5)\n",
    "print(result_decimal)"
   ]
  },
  {
   "cell_type": "markdown",
   "id": "25a48a8d",
   "metadata": {},
   "source": [
    "# 9. Create a function that takes a full name as an argument and returns first name and last name."
   ]
  },
  {
   "cell_type": "code",
   "execution_count": 18,
   "id": "41e8aa39",
   "metadata": {},
   "outputs": [],
   "source": [
    "#Answer:\n",
    "def first_last_name(full_name):\n",
    "    names = full_name.split()       #We split the full_name string using the split() method\n",
    "    first_name = names[0]\n",
    "    last_name = names[-1]\n",
    "    return first_name, last_name\n"
   ]
  },
  {
   "cell_type": "code",
   "execution_count": 19,
   "id": "cce0f8b5",
   "metadata": {},
   "outputs": [
    {
     "name": "stdout",
     "output_type": "stream",
     "text": [
      "('Himanshu', 'Yadav')\n"
     ]
    }
   ],
   "source": [
    "result = first_last_name(\"Himanshu Yadav\")   #Here with full name we have splitted the names\n",
    "print(result)"
   ]
  },
  {
   "cell_type": "code",
   "execution_count": 20,
   "id": "0f8acf72",
   "metadata": {},
   "outputs": [
    {
     "name": "stdout",
     "output_type": "stream",
     "text": [
      "('Himanshu', 'yadav')\n"
     ]
    }
   ],
   "source": [
    "result = first_last_name(\"Himanshu rajendra yadav\")         #Here with middle name we have splitted the names\n",
    "print(result)"
   ]
  }
 ],
 "metadata": {
  "kernelspec": {
   "display_name": "Python 3 (ipykernel)",
   "language": "python",
   "name": "python3"
  },
  "language_info": {
   "codemirror_mode": {
    "name": "ipython",
    "version": 3
   },
   "file_extension": ".py",
   "mimetype": "text/x-python",
   "name": "python",
   "nbconvert_exporter": "python",
   "pygments_lexer": "ipython3",
   "version": "3.11.2"
  }
 },
 "nbformat": 4,
 "nbformat_minor": 5
}
