{
 "cells": [
  {
   "cell_type": "markdown",
   "id": "b1d2da28",
   "metadata": {},
   "source": [
    "#  ASSIGNMENT 6"
   ]
  },
  {
   "cell_type": "markdown",
   "id": "068f8726",
   "metadata": {},
   "source": [
    "# Q.1. What are keywords in python? Using the keyword library, print all the python keywords."
   ]
  },
  {
   "cell_type": "code",
   "execution_count": 1,
   "id": "acca4611",
   "metadata": {},
   "outputs": [
    {
     "name": "stdout",
     "output_type": "stream",
     "text": [
      "['False', 'None', 'True', 'and', 'as', 'assert', 'async', 'await', 'break', 'class', 'continue', 'def', 'del', 'elif', 'else', 'except', 'finally', 'for', 'from', 'global', 'if', 'import', 'in', 'is', 'lambda', 'nonlocal', 'not', 'or', 'pass', 'raise', 'return', 'try', 'while', 'with', 'yield']\n"
     ]
    }
   ],
   "source": [
    "# Answer:\n",
    "#  Keywords are predefined, reserved words used in Python programming that have special meanings to the compiler.\n",
    "#  We cannot use a keyword as a variable name, function name, or any other identifier.\n",
    "\n",
    "import keyword\n",
    "print(keyword.kwlist)"
   ]
  },
  {
   "cell_type": "markdown",
   "id": "888b215f",
   "metadata": {},
   "source": [
    "# Q.2. What are the rules to create variables in python?"
   ]
  },
  {
   "cell_type": "markdown",
   "id": "b3fea6e9",
   "metadata": {},
   "source": [
    "Answer:\n",
    "variable names in Python can be any length and can consist of uppercase and lowercase letters ( A-Z , a-z ),digits ( 0-9 ), \n",
    "and the underscore character ( _ ).\n",
    "It can not start with number.\n",
    "A variable name must start with a letter or the underscore character."
   ]
  },
  {
   "cell_type": "markdown",
   "id": "0de7093c",
   "metadata": {},
   "source": [
    "# Q.3. What are the standards and conventions followed for the nomenclature of variables in python to improve code readability and maintainability?"
   ]
  },
  {
   "cell_type": "code",
   "execution_count": null,
   "id": "df327b1f",
   "metadata": {},
   "outputs": [],
   "source": [
    "Answer:\n",
    "Variable names: We can use lowercase and underscore for improving readability, Example: \"my_variable\", \"user_name\", \n",
    "\"number_of_attempts\".\n",
    "Constants:We can use Uppercase letter and seperate words with underscore for constants, Example: \"FIRST_NAME\", \"LAST_NAME\".\n",
    "Classes names: Here, we have to capitalize the first letter of each word without using underscore, Example: \"MyClass\", \n",
    "\"PersonClass\".\n",
    "Not using Reserved keywords:We can not use Reserved keywords and built in functions names as variable names, Example: \"print\", \n",
    "\"int\", \"if\",etc.\n",
    "    "
   ]
  },
  {
   "cell_type": "markdown",
   "id": "6d9682ba",
   "metadata": {},
   "source": [
    "# Q.4. What will happen if a keyword is used as a variable name?"
   ]
  },
  {
   "cell_type": "code",
   "execution_count": null,
   "id": "c1a017f1",
   "metadata": {},
   "outputs": [],
   "source": [
    "Answer:\n",
    "If a keyword is used as a varibale in python it will give an syntax error.We cannot use a keyword as a variable name, function \n",
    "name, or any other identifier.\n"
   ]
  },
  {
   "cell_type": "code",
   "execution_count": 3,
   "id": "e1991667",
   "metadata": {},
   "outputs": [
    {
     "ename": "SyntaxError",
     "evalue": "cannot assign to True (2798668195.py, line 1)",
     "output_type": "error",
     "traceback": [
      "\u001b[1;36m  Cell \u001b[1;32mIn[3], line 1\u001b[1;36m\u001b[0m\n\u001b[1;33m    True= 10\u001b[0m\n\u001b[1;37m    ^\u001b[0m\n\u001b[1;31mSyntaxError\u001b[0m\u001b[1;31m:\u001b[0m cannot assign to True\n"
     ]
    }
   ],
   "source": [
    "True= 10"
   ]
  },
  {
   "cell_type": "markdown",
   "id": "9f60f820",
   "metadata": {},
   "source": [
    "# Q.5. For what purpose def keyword is used?"
   ]
  },
  {
   "cell_type": "code",
   "execution_count": null,
   "id": "6f36e3e9",
   "metadata": {},
   "outputs": [],
   "source": [
    "Answer:\n",
    "def keyword is used to define a function for creating user-defined function."
   ]
  },
  {
   "cell_type": "markdown",
   "id": "c3140fb6",
   "metadata": {},
   "source": [
    "# Q.6. What is the operation of this special character ‘\\’?"
   ]
  },
  {
   "cell_type": "code",
   "execution_count": null,
   "id": "a8b46267",
   "metadata": {},
   "outputs": [],
   "source": [
    "Answer:\n",
    "The backslash character (\\) is used as an escape character. \n",
    "'\\n': Newline\n",
    "'\\t': Tab\n",
    "The backslash can be used to split long lines of code into multiple lines for improved readability. \n",
    "By placing a backslash at the end of a line, Python treats it as a continuation of the statement on the next line."
   ]
  },
  {
   "cell_type": "markdown",
   "id": "72464e1d",
   "metadata": {},
   "source": [
    "# Q.7. Give an example of the following conditions:\n",
    "(i) Homogeneous list\n",
    "(ii) Heterogeneous set\n",
    "(iii) Homogeneous tuple"
   ]
  },
  {
   "cell_type": "code",
   "execution_count": null,
   "id": "d95fe724",
   "metadata": {},
   "outputs": [],
   "source": [
    "Answer:\n",
    "(i) Homogeneous list: A homogeneous list is a list where all the elements are of same data type.\n",
    "Example: My_list = [1,2,3,4,5]\n",
    "    \n",
    "(ii) Heterogeneous set: A heterogeneous set is a set where the elements are of different data types.\n",
    "Example: Set = {1,\"Himmanshu\",4.55} \n",
    "    \n",
    "(iii) Homogeneous tuple: A homogeneous tuple is a tuple where all ements have same data type.\n",
    "Example: My_tup = (\"Himanshu\", \"Student\", \"iNeuron\")"
   ]
  },
  {
   "cell_type": "markdown",
   "id": "925da749",
   "metadata": {},
   "source": [
    "# Q.8. Explain the mutable and immutable data types with proper explanation & examples."
   ]
  },
  {
   "cell_type": "code",
   "execution_count": null,
   "id": "05607c54",
   "metadata": {},
   "outputs": [],
   "source": [
    "Answer:\n",
    "1)Mutable Data Types:\n",
    "Mutable objects can be modified after they are created. We can change their value, add or remove elements, or update that.\n",
    "Examples of mutable data types:lists, dictionaries, and sets."
   ]
  },
  {
   "cell_type": "code",
   "execution_count": 4,
   "id": "0e5e53c4",
   "metadata": {},
   "outputs": [],
   "source": [
    "my_list= [1, 2, 3]"
   ]
  },
  {
   "cell_type": "code",
   "execution_count": 5,
   "id": "a78fcc4f",
   "metadata": {},
   "outputs": [
    {
     "data": {
      "text/plain": [
       "[1, 2, 3]"
      ]
     },
     "execution_count": 5,
     "metadata": {},
     "output_type": "execute_result"
    }
   ],
   "source": [
    "my_list"
   ]
  },
  {
   "cell_type": "code",
   "execution_count": 6,
   "id": "36616b59",
   "metadata": {},
   "outputs": [],
   "source": [
    "my_list.append(6)"
   ]
  },
  {
   "cell_type": "code",
   "execution_count": 7,
   "id": "3f68c4a8",
   "metadata": {},
   "outputs": [
    {
     "data": {
      "text/plain": [
       "[1, 2, 3, 6]"
      ]
     },
     "execution_count": 7,
     "metadata": {},
     "output_type": "execute_result"
    }
   ],
   "source": [
    "my_list    #Here we have added 6 in the list using append() method"
   ]
  },
  {
   "cell_type": "code",
   "execution_count": null,
   "id": "ec08fdbb",
   "metadata": {},
   "outputs": [],
   "source": [
    "2)Immutable Data Types:\n",
    "Immutable objects cannot be modified after they are created. Once assigned a value, that value cannot be changed.\n",
    "Examples of immutable data types:integers, floats, strings, and tuples."
   ]
  },
  {
   "cell_type": "code",
   "execution_count": 8,
   "id": "9dbad531",
   "metadata": {},
   "outputs": [],
   "source": [
    "my_string = \"Hello\""
   ]
  },
  {
   "cell_type": "code",
   "execution_count": 9,
   "id": "e382b7ed",
   "metadata": {},
   "outputs": [
    {
     "data": {
      "text/plain": [
       "'Hello'"
      ]
     },
     "execution_count": 9,
     "metadata": {},
     "output_type": "execute_result"
    }
   ],
   "source": [
    "my_string"
   ]
  },
  {
   "cell_type": "code",
   "execution_count": 10,
   "id": "baaa850e",
   "metadata": {},
   "outputs": [
    {
     "ename": "TypeError",
     "evalue": "'str' object does not support item assignment",
     "output_type": "error",
     "traceback": [
      "\u001b[1;31m---------------------------------------------------------------------------\u001b[0m",
      "\u001b[1;31mTypeError\u001b[0m                                 Traceback (most recent call last)",
      "Cell \u001b[1;32mIn[10], line 1\u001b[0m\n\u001b[1;32m----> 1\u001b[0m \u001b[43mmy_string\u001b[49m\u001b[43m[\u001b[49m\u001b[38;5;241;43m0\u001b[39;49m\u001b[43m]\u001b[49m\u001b[38;5;241m=\u001b[39m\u001b[38;5;124m'\u001b[39m\u001b[38;5;124mh\u001b[39m\u001b[38;5;124m'\u001b[39m   \u001b[38;5;66;03m# modify a character in the string will result in an error\u001b[39;00m\n",
      "\u001b[1;31mTypeError\u001b[0m: 'str' object does not support item assignment"
     ]
    }
   ],
   "source": [
    "my_string[0]='h'   # modify a character in the string will result in an error"
   ]
  },
  {
   "cell_type": "markdown",
   "id": "76d91ea8",
   "metadata": {},
   "source": [
    "# Q.9. Write a code to create the given structure using only for loop.\n",
    "     *\n",
    "    ***\n",
    "   *****\n",
    "  *******\n",
    " *********"
   ]
  },
  {
   "cell_type": "code",
   "execution_count": 11,
   "id": "bafb5344",
   "metadata": {},
   "outputs": [
    {
     "name": "stdout",
     "output_type": "stream",
     "text": [
      "    *\n",
      "   ***\n",
      "  *****\n",
      " *******\n",
      "*********\n"
     ]
    }
   ],
   "source": [
    "#Answer:\n",
    "n = 5\n",
    "\n",
    "for i in range(n):\n",
    "    for j in range(n-i-1):  #Printing spaces\n",
    "        print(' ', end='')\n",
    "    for k in range(2*i+1):  #Printing stars(*)\n",
    "        print('*', end='')\n",
    "    print()"
   ]
  },
  {
   "cell_type": "markdown",
   "id": "38ee1f5b",
   "metadata": {},
   "source": [
    "# Q.10. Write a code to create the given structure using while loop.\n",
    "|||||||||\n",
    " |||||||\n",
    "  |||||\n",
    "   |||\n",
    "    |\n",
    "   \n",
    "  "
   ]
  },
  {
   "cell_type": "code",
   "execution_count": 12,
   "id": "45c2a92d",
   "metadata": {},
   "outputs": [
    {
     "name": "stdout",
     "output_type": "stream",
     "text": [
      "|||||||||\n",
      " |||||||\n",
      "  |||||\n",
      "   |||\n",
      "    |\n"
     ]
    }
   ],
   "source": [
    "#Answer:\n",
    "num_rows = 5\n",
    "i = num_rows\n",
    "\n",
    "while i >= 1:\n",
    "    j = 0\n",
    "    # Print spaces\n",
    "    while j < num_rows - i:\n",
    "        print(\" \", end=\"\")\n",
    "        j += 1\n",
    "    \n",
    "    k = 0\n",
    "    # Print asterisks\n",
    "    while k < (2 * i - 1):\n",
    "        print(\"|\", end=\"\")\n",
    "        k += 1\n",
    "    \n",
    "    # Move to the next line\n",
    "    print()\n",
    "    i -= 1\n"
   ]
  }
 ],
 "metadata": {
  "kernelspec": {
   "display_name": "Python 3 (ipykernel)",
   "language": "python",
   "name": "python3"
  },
  "language_info": {
   "codemirror_mode": {
    "name": "ipython",
    "version": 3
   },
   "file_extension": ".py",
   "mimetype": "text/x-python",
   "name": "python",
   "nbconvert_exporter": "python",
   "pygments_lexer": "ipython3",
   "version": "3.11.2"
  }
 },
 "nbformat": 4,
 "nbformat_minor": 5
}
