{
 "cells": [
  {
   "cell_type": "markdown",
   "id": "ad24a2b0",
   "metadata": {},
   "source": [
    "# ASSIGNMENT 12 "
   ]
  },
  {
   "cell_type": "markdown",
   "id": "f67259e5",
   "metadata": {},
   "source": [
    "# 1. What is the primary goal of Object-Oriented Programming (OOP)?"
   ]
  },
  {
   "cell_type": "code",
   "execution_count": null,
   "id": "2113cf74",
   "metadata": {},
   "outputs": [],
   "source": [
    "Answer:\n",
    "The primary goal of Object-Oriented Programming(OOP) in Python is to implement real-world entities like inheritance,\n",
    "polymorphisms, encapsulation,abstraction.\n",
    "Object-Oriented Programming in Python aims to create efficient, maintainable, and scalable code, suitable for both\n",
    "small and large-scale projects."
   ]
  },
  {
   "cell_type": "markdown",
   "id": "7d7df43d",
   "metadata": {},
   "source": [
    "# 2. What is an object in Python?"
   ]
  },
  {
   "cell_type": "code",
   "execution_count": null,
   "id": "c8dcc7dc",
   "metadata": {},
   "outputs": [],
   "source": [
    "Answer:\n",
    "A unique instance of a data structure that's defined by its class. An object comprises both data members (class variables\n",
    "and instance variables) and methods."
   ]
  },
  {
   "cell_type": "markdown",
   "id": "3e9abe40",
   "metadata": {},
   "source": [
    "# 3. What is a class in Python?"
   ]
  },
  {
   "cell_type": "code",
   "execution_count": null,
   "id": "e85a2677",
   "metadata": {},
   "outputs": [],
   "source": [
    "Answer:\n",
    "A class is a blueprint or a template for creating objects. It defines a new data type, specifying the attributes(data) and\n",
    "methods (functions) that objects of that type will have.\n",
    "One class can have many objects and value of properties for different objects can be different."
   ]
  },
  {
   "cell_type": "markdown",
   "id": "ebd00a30",
   "metadata": {},
   "source": [
    "# 4. What are attributes and methods in a class?"
   ]
  },
  {
   "cell_type": "code",
   "execution_count": null,
   "id": "5cf34911",
   "metadata": {},
   "outputs": [],
   "source": [
    "Answer:\n",
    "1)Attributes:Within a class, we define attributes, which are variables that store data specific to the objects. Each object\n",
    "created from the class will have its own set of attributes.\n",
    "2)Methods:Methods are functions defined within a class that define the behavior of the objects. They can operate on the\n",
    "attributes of the object and perform actions related to the object's data."
   ]
  },
  {
   "cell_type": "markdown",
   "id": "dda70637",
   "metadata": {},
   "source": [
    "# 5. What is the difference between class variables and instance variables in Python?"
   ]
  },
  {
   "cell_type": "code",
   "execution_count": null,
   "id": "0e969aae",
   "metadata": {},
   "outputs": [],
   "source": [
    "Answer:\n",
    "1)Class Variables: \n",
    "A)Class variables are variables that are shared among all instances (objects) of a class.\n",
    "B)They are defined within the class but outside any methods, usually at the beginning of the class definition.\n",
    "C)Class variables are useful when you want to store data that should be common to all objects of the class.\n",
    "\n",
    "2)Instance Variables:\n",
    "A)Instance variables are unique to each instance of the class. They belong to the specific instance and are not shared\n",
    "among other instances of the same class.\n",
    "B)They are defined within the __init__() method or other instance methods, using the self keyword.\n",
    "C)Instance variables are used to store data that varies from object to object."
   ]
  },
  {
   "cell_type": "markdown",
   "id": "b8cffb8a",
   "metadata": {},
   "source": [
    "# 6. What is the purpose of the self parameter in Python class methods?"
   ]
  },
  {
   "cell_type": "code",
   "execution_count": null,
   "id": "818a0bc6",
   "metadata": {},
   "outputs": [],
   "source": [
    "Answer:\n",
    "The self parameter in class methods is used to refer to the instance of the class itself. When we define a method in class\n",
    "the first parameter is 'self' which represnts instance of class.the self parameter in class methods is used to refer to the\n",
    "instance of the class itself."
   ]
  },
  {
   "cell_type": "markdown",
   "id": "dc9f95ec",
   "metadata": {},
   "source": [
    "# 7. For a library management system, you have to design the \"Book\" class with OOP principles in mind. The “Book” class will have following attributes:\n",
    "a. title: Represents the title of the book.\n",
    "\n",
    "b. author: Represents the author(s) of the book.\n",
    "\n",
    "c. isbn: Represents the ISBN (International Standard Book Number) of the book.\n",
    "\n",
    "d. publication_year: Represents the year of publication of the book.\n",
    "\n",
    "e. available_copies: Represents the number of copies available for checkout.\n",
    "\n",
    "The class will also include the following methods:\n",
    "a. check_out(self): Decrements the available copies by one if there are copies\n",
    "available for checkout.\n",
    "\n",
    "b. return_book(self): Increments the available copies by one when a book is\n",
    "returned.\n",
    "\n",
    "c. display_book_info(self): Displays the information about the book, including its\n",
    "attributes and the number of available copies."
   ]
  },
  {
   "cell_type": "code",
   "execution_count": 5,
   "id": "8268def9",
   "metadata": {},
   "outputs": [
    {
     "name": "stdout",
     "output_type": "stream",
     "text": [
      "Book Information:\n",
      "Title: Hamlet\n",
      "Author: Shakespeare\n",
      "ISBN: 978-0-395-04402-5\n",
      "Publication Year: 1601\n",
      "Available Copies: 5\n",
      "checked out:Hamlet\n",
      "returned book: Hamlet\n"
     ]
    }
   ],
   "source": [
    "#Answer:\n",
    "                              #Library  Management  System\n",
    "class Book:\n",
    "    def __init__(self,title,author,isbn,publication_year,available_copies):\n",
    "        self.title=title\n",
    "        self.author=author\n",
    "        self.isbn=isbn\n",
    "        self.publication_year=publication_year\n",
    "        self.available_copies=available_copies\n",
    "        \n",
    "    def check_out(self):\n",
    "        if self.available_copies>0:\n",
    "            self.available_copies-=1\n",
    "            print(f\"checked out:{self.title}\")\n",
    "        else:\n",
    "            print('no available copies to check out')\n",
    "            \n",
    "    def return_book(self):\n",
    "        self.available_copies+=1\n",
    "        print(f\"returned book: {self.title}\")\n",
    "        \n",
    "    def display_book_info(self):\n",
    "        print(\"Book Information:\")\n",
    "        print(f\"Title: {self.title}\")\n",
    "        print(f\"Author: {self.author}\")\n",
    "        print(f\"ISBN: {self.isbn}\")\n",
    "        print(f\"Publication Year: {self.publication_year}\")\n",
    "        print(f\"Available Copies: {self.available_copies}\")\n",
    "        \n",
    "obj1= Book(\"Hamlet\",\"Shakespeare\",\"978-0-395-04402-5\",1601,5)\n",
    "\n",
    "obj1.display_book_info()\n",
    "obj1.check_out()\n",
    "obj1.return_book()"
   ]
  },
  {
   "cell_type": "markdown",
   "id": "585845cd",
   "metadata": {},
   "source": [
    "# 8. For a ticket booking system, you have to design the \"Ticket\" class with OOP principles in mind. The “Ticket” class should have the following attributes:\n",
    "a. ticket_id: Represents the unique identifier for the ticket.\n",
    "\n",
    "b. event_name: Represents the name of the event.\n",
    "\n",
    "c. event_date: Represents the date of the event.\n",
    "\n",
    "d. venue: Represents the venue of the event.\n",
    "\n",
    "e. seat_number: Represents the seat number associated with the ticket.\n",
    "\n",
    "f. price: Represents the price of the ticket.\n",
    "\n",
    "g. is_reserved: Represents the reservation status of the ticket.\n",
    "\n",
    "The class also includes the following methods:\n",
    "a. reserve_ticket(self): Marks the ticket as reserved if it is not already reserved.\n",
    "\n",
    "b. cancel_reservation(self): Cancels the reservation of the ticket if it is already\n",
    "reserved.\n",
    "\n",
    "c. display_ticket_info(self): Displays the information about the ticket, including its\n",
    "attributes and reservation status."
   ]
  },
  {
   "cell_type": "code",
   "execution_count": 6,
   "id": "561c6845",
   "metadata": {},
   "outputs": [],
   "source": [
    "#Answer:\n",
    "                                   #Ticket Booking System\n",
    "    \n",
    "class Ticket:\n",
    "    def __init__(self, ticket_id, event_name, event_date, venue, seat_number, price, is_reserved = False):\n",
    "        self.ticket_id = ticket_id\n",
    "        self.event_name = event_name\n",
    "        self.event_date = event_date\n",
    "        self.venue = venue\n",
    "        self.seat_number = seat_number\n",
    "        self.price = price\n",
    "        self.is_reserved = is_reserved\n",
    "        \n",
    "    def reserve_ticket(self):\n",
    "        if not self.is_reserved:\n",
    "            self.is_reserved = True\n",
    "            print(f\"Ticket {self.ticket_id} is reserved for {self.event_name}\")\n",
    "        else:\n",
    "            print(f\"Ticket {self.ticket_id} is already reserved.\")\n",
    "\n",
    "            \n",
    "    def cancel_reservation(self):\n",
    "        if self.is_reserved:\n",
    "            self.is_reserved = False\n",
    "            print(f\"Reservation for Ticket {self.ticket_id} has been canceled.\")\n",
    "        else:\n",
    "            print(f\"Ticket {self.ticket_id} is not reserved.\")\n",
    "            \n",
    "    def display_ticket_info(self):\n",
    "        print(f\"Ticket ID: {self.ticket_id}\")\n",
    "        print(f\"Event Name: {self.event_name}\")\n",
    "        print(f\"Event Date: {self.event_date}\")\n",
    "        print(f\"Venue: {self.venue}\")\n",
    "        print(f\"Seat Number: {self.seat_number}\")\n",
    "        print(f\"Price: {self.price}\")\n",
    "        print(f\"Reservation Status: {'Reserved' if self.is_reserved else 'Not Reserved'}\")"
   ]
  },
  {
   "cell_type": "code",
   "execution_count": 7,
   "id": "e9c4f824",
   "metadata": {},
   "outputs": [],
   "source": [
    "passenger1 = Ticket(1, \"cricket match\", \"15-10-2023\",\"stadium\", \"A101\", 1900)\n",
    "passenger2 = Ticket(2, \"Theater Show\", \"2023-08-20\", \"Theater Hall\", \"B25\", 300, True)"
   ]
  },
  {
   "cell_type": "code",
   "execution_count": 8,
   "id": "1e8a774a",
   "metadata": {},
   "outputs": [
    {
     "name": "stdout",
     "output_type": "stream",
     "text": [
      "Ticket ID: 1\n",
      "Event Name: cricket match\n",
      "Event Date: 15-10-2023\n",
      "Venue: stadium\n",
      "Seat Number: A101\n",
      "Price: 1900\n",
      "Reservation Status: Not Reserved\n",
      "Ticket 1 is reserved for cricket match\n",
      "Reservation for Ticket 1 has been canceled.\n"
     ]
    }
   ],
   "source": [
    "passenger1.display_ticket_info()\n",
    "passenger1.reserve_ticket()\n",
    "passenger1.cancel_reservation()"
   ]
  },
  {
   "cell_type": "code",
   "execution_count": 9,
   "id": "87021f94",
   "metadata": {},
   "outputs": [
    {
     "name": "stdout",
     "output_type": "stream",
     "text": [
      "Ticket ID: 2\n",
      "Event Name: Theater Show\n",
      "Event Date: 2023-08-20\n",
      "Venue: Theater Hall\n",
      "Seat Number: B25\n",
      "Price: 300\n",
      "Reservation Status: Reserved\n",
      "Reservation for Ticket 2 has been canceled.\n",
      "Ticket 2 is reserved for Theater Show\n"
     ]
    }
   ],
   "source": [
    "passenger2.display_ticket_info()\n",
    "passenger2.cancel_reservation()\n",
    "passenger2.reserve_ticket()"
   ]
  },
  {
   "cell_type": "markdown",
   "id": "d11af31e",
   "metadata": {},
   "source": [
    "# 9. You are creating a shopping cart for an e-commerce website. Using OOP to model the \"ShoppingCart\" functionality the class should contain following attributes and methods:\n",
    "\n",
    "a. items: Represents the list of items in the shopping cart.\n",
    "\n",
    "The class also includes the following methods:\n",
    "a. add_item(self, item): Adds an item to the shopping cart by appending it to the\n",
    "list of items.\n",
    "\n",
    "b. remove_item(self, item): Removes an item from the shopping cart if it exists in\n",
    "the list.\n",
    "\n",
    "c. view_cart(self): Displays the items currently present in the shopping cart.\n",
    "\n",
    "d. clear_cart(self): Clears all items from the shopping cart by reassigning an\n",
    "empty list to the items attribute."
   ]
  },
  {
   "cell_type": "code",
   "execution_count": 10,
   "id": "d25da7ab",
   "metadata": {},
   "outputs": [],
   "source": [
    "#Answer:\n",
    "\n",
    "                                   #Shopping Cart for an E-Commerce\n",
    "    \n",
    "class ShoppingCart:\n",
    "    def __init__(self):\n",
    "        self.items=[]\n",
    "        \n",
    "    def add_item(self,item):\n",
    "        self.items.append(item)\n",
    "        print(f\"{item} added to shopping cart\")\n",
    "        \n",
    "    def remove_item(self,item):\n",
    "        if item in self.items:\n",
    "            self.items.remove(item)\n",
    "            print(f\"{item} removed from list\")\n",
    "        else:\n",
    "            print(f\"{item} is not in the list\")\n",
    "            \n",
    "    def view_cart(self):\n",
    "        if self.items:\n",
    "            print(\"Items in the shopping cart:\")\n",
    "            for item in self.items:\n",
    "                print(item)\n",
    "        else:\n",
    "            print(\"The shopping cart is empty.\")\n",
    "            \n",
    "    def clear_cart(self):\n",
    "        self.items=[]\n",
    "        print(\"shopping cart cleared.\")"
   ]
  },
  {
   "cell_type": "code",
   "execution_count": 11,
   "id": "e086b12f",
   "metadata": {},
   "outputs": [],
   "source": [
    "cart = ShoppingCart()"
   ]
  },
  {
   "cell_type": "code",
   "execution_count": 12,
   "id": "a4944fb9",
   "metadata": {},
   "outputs": [
    {
     "name": "stdout",
     "output_type": "stream",
     "text": [
      "Pencil added to shopping cart\n",
      "Rubber added to shopping cart\n"
     ]
    }
   ],
   "source": [
    "cart.add_item(\"Pencil\")\n",
    "cart.add_item(\"Rubber\")"
   ]
  },
  {
   "cell_type": "code",
   "execution_count": 13,
   "id": "a71db48e",
   "metadata": {},
   "outputs": [
    {
     "name": "stdout",
     "output_type": "stream",
     "text": [
      "Items in the shopping cart:\n",
      "Pencil\n",
      "Rubber\n"
     ]
    }
   ],
   "source": [
    "cart.view_cart()"
   ]
  },
  {
   "cell_type": "code",
   "execution_count": 14,
   "id": "57700813",
   "metadata": {},
   "outputs": [
    {
     "name": "stdout",
     "output_type": "stream",
     "text": [
      "Pencil removed from list\n"
     ]
    }
   ],
   "source": [
    "cart.remove_item(\"Pencil\")"
   ]
  },
  {
   "cell_type": "code",
   "execution_count": 15,
   "id": "6ced1c26",
   "metadata": {},
   "outputs": [
    {
     "name": "stdout",
     "output_type": "stream",
     "text": [
      "Items in the shopping cart:\n",
      "Rubber\n"
     ]
    }
   ],
   "source": [
    "cart.view_cart()"
   ]
  },
  {
   "cell_type": "code",
   "execution_count": 16,
   "id": "b44b5ee4",
   "metadata": {},
   "outputs": [
    {
     "name": "stdout",
     "output_type": "stream",
     "text": [
      "shopping cart cleared.\n"
     ]
    }
   ],
   "source": [
    "cart.clear_cart()"
   ]
  },
  {
   "cell_type": "code",
   "execution_count": 17,
   "id": "6d90c745",
   "metadata": {},
   "outputs": [
    {
     "name": "stdout",
     "output_type": "stream",
     "text": [
      "The shopping cart is empty.\n"
     ]
    }
   ],
   "source": [
    "cart.view_cart()"
   ]
  },
  {
   "cell_type": "markdown",
   "id": "7e4e2f1f",
   "metadata": {},
   "source": [
    "# 10. Imagine a school management system. You have to design the \"Student\" class using OOP concepts.The “Student” class has the following attributes:\n",
    "\n",
    "a. name: Represents the name of the student.\n",
    "\n",
    "b. age: Represents the age of the student.\n",
    "\n",
    "c. grade: Represents the grade or class of the student.\n",
    "\n",
    "d. student_id: Represents the unique identifier for the student.\n",
    "\n",
    "e. attendance: Represents the attendance record of the student.\n",
    "\n",
    "The class should also include the following methods:\n",
    "a. update_attendance(self, date, status): Updates the attendance record of\n",
    "\n",
    "the student for a given date with the provided status (e.g., present or absent).\n",
    "\n",
    "b. get_attendance(self): Returns the attendance record of the student.\n",
    "\n",
    "c. get_average_attendance(self): Calculates and returns the average\n",
    "attendance percentage of the student based on their attendance record."
   ]
  },
  {
   "cell_type": "code",
   "execution_count": 31,
   "id": "18eb3609",
   "metadata": {},
   "outputs": [],
   "source": [
    "#Answer:\n",
    "                                         #School Management System\n",
    "    \n",
    "class Student:\n",
    "    def __init__(self, name, age, grade, student_id):\n",
    "        self.name = name\n",
    "        self.age = age\n",
    "        self.grade = grade\n",
    "        self.student_id = student_id\n",
    "        self.attendance = {}               #initialized as empty dictionary\n",
    "\n",
    "    def update_attendance(self, date, status):\n",
    "        if status.lower() in [\"present\", \"absent\"]:\n",
    "            self.attendance[date] = status.lower()\n",
    "            print(f\"Attendance for {self.name} on {date} marked as {status}.\")\n",
    "        else:\n",
    "            print(\"Wrong input of status.\")\n",
    "\n",
    "    def get_attendance(self):\n",
    "        return self.attendance\n",
    "\n",
    "    def get_average_attendance(self):\n",
    "        total_days = len(self.attendance)\n",
    "        if total_days == 0:\n",
    "            return 0\n",
    "\n",
    "        present_days = sum(1 for status in self.attendance.values() if status == \"present\")\n",
    "        average_attendance = (present_days / total_days) * 100\n",
    "        return average_attendance"
   ]
  },
  {
   "cell_type": "code",
   "execution_count": 32,
   "id": "e2f84060",
   "metadata": {},
   "outputs": [],
   "source": [
    "student1 = Student(\"sahil\", 20, \"72% Grade\", \"902\")\n",
    "student2 = Student(\"suraj\", 21, \"80% grade\", \"296\")"
   ]
  },
  {
   "cell_type": "code",
   "execution_count": 33,
   "id": "3ec1fe27",
   "metadata": {},
   "outputs": [
    {
     "name": "stdout",
     "output_type": "stream",
     "text": [
      "Attendance for sahil on 2023-07-20 marked as present.\n",
      "Attendance for sahil on 2023-07-01 marked as absent.\n",
      "Attendance for sahil on 2023-07-15 marked as present.\n"
     ]
    }
   ],
   "source": [
    "student1.update_attendance(\"2023-07-20\", \"present\")\n",
    "student1.update_attendance(\"2023-07-01\", \"absent\")\n",
    "student1.update_attendance(\"2023-07-15\", \"present\")"
   ]
  },
  {
   "cell_type": "code",
   "execution_count": 34,
   "id": "1e71a498",
   "metadata": {},
   "outputs": [
    {
     "name": "stdout",
     "output_type": "stream",
     "text": [
      "Attendance for suraj on 2023-07-01 marked as present.\n",
      "Attendance for suraj on 2023-07-02 marked as present.\n",
      "Attendance for suraj on 2023-07-03 marked as present.\n"
     ]
    }
   ],
   "source": [
    "student2.update_attendance(\"2023-07-01\", \"present\")\n",
    "student2.update_attendance(\"2023-07-02\", \"present\")\n",
    "student2.update_attendance(\"2023-07-03\", \"present\")"
   ]
  },
  {
   "cell_type": "code",
   "execution_count": 35,
   "id": "554df5da",
   "metadata": {},
   "outputs": [
    {
     "name": "stdout",
     "output_type": "stream",
     "text": [
      "{'2023-07-20': 'present', '2023-07-01': 'absent', '2023-07-15': 'present'}\n",
      "{'2023-07-01': 'present', '2023-07-02': 'present', '2023-07-03': 'present'}\n"
     ]
    }
   ],
   "source": [
    "print(student1.get_attendance())\n",
    "print(student2.get_attendance())"
   ]
  },
  {
   "cell_type": "code",
   "execution_count": 37,
   "id": "997bf1e9",
   "metadata": {},
   "outputs": [
    {
     "name": "stdout",
     "output_type": "stream",
     "text": [
      "Average attendance for sahil: 66.67%\n",
      "Average attendance for suraj: 100.00%\n"
     ]
    }
   ],
   "source": [
    "print(f\"Average attendance for {student1.name}: {student1.get_average_attendance():.2f}%\")\n",
    "print(f\"Average attendance for {student2.name}: {student2.get_average_attendance():.2f}%\")"
   ]
  }
 ],
 "metadata": {
  "kernelspec": {
   "display_name": "Python 3 (ipykernel)",
   "language": "python",
   "name": "python3"
  },
  "language_info": {
   "codemirror_mode": {
    "name": "ipython",
    "version": 3
   },
   "file_extension": ".py",
   "mimetype": "text/x-python",
   "name": "python",
   "nbconvert_exporter": "python",
   "pygments_lexer": "ipython3",
   "version": "3.11.2"
  }
 },
 "nbformat": 4,
 "nbformat_minor": 5
}
