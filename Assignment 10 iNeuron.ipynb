{
 "cells": [
  {
   "cell_type": "markdown",
   "id": "dc87b237",
   "metadata": {},
   "source": [
    "# ASSIGNMENT 10"
   ]
  },
  {
   "cell_type": "markdown",
   "id": "94737857",
   "metadata": {},
   "source": [
    "# 1. What is the role of try and exception block?"
   ]
  },
  {
   "cell_type": "code",
   "execution_count": null,
   "id": "93114aba",
   "metadata": {},
   "outputs": [],
   "source": [
    "Answer:\n",
    "1)The try and except block is used for exception handling, which allows us to handle errors and exceptional conditions that\n",
    "might occur during the execution of a program.\n",
    "2)In the \"try\" block where we put the code that we want to protect from raising an exception. It encloses the section of\n",
    "code that might cause an error.When the error found in the try block , it immediately goes to except block.\n",
    "3)When an error found in the try block, the program execution shifts to this except block.This code will executed when\n",
    "specific type of execution raised in the try block matches the one specified in the \"except\" block."
   ]
  },
  {
   "cell_type": "markdown",
   "id": "60509dee",
   "metadata": {},
   "source": [
    "# 2. What is the syntax for a basic try-except block?"
   ]
  },
  {
   "cell_type": "code",
   "execution_count": null,
   "id": "ead77603",
   "metadata": {},
   "outputs": [],
   "source": [
    "Answer:\n",
    "try:\n",
    "    # Code that might raise an exception\n",
    "except:\n",
    "    # Code to handle the exception"
   ]
  },
  {
   "cell_type": "markdown",
   "id": "5aac9639",
   "metadata": {},
   "source": [
    "# 3. What happens if an exception occurs inside a try block and there is no matching except block?"
   ]
  },
  {
   "cell_type": "code",
   "execution_count": null,
   "id": "67aee326",
   "metadata": {},
   "outputs": [],
   "source": [
    "Answer:\n",
    "If an exception occurs inside a try block and there is no matching except block to handle that specific type of exception,\n",
    "the program will terminate abruptly, and Python's default exception handler will be invoked. This means that an error\n",
    "message will be displayed, indicating the type of exception that occurred and the location in the code where it happened.\n",
    "At last an error message will be printed, showing the sequence of function calls and the line numbers where the exception\n",
    "occurred."
   ]
  },
  {
   "cell_type": "markdown",
   "id": "477c49dc",
   "metadata": {},
   "source": [
    "# 4. What is the difference between using a bare except block and specifying a specific exception type?"
   ]
  },
  {
   "cell_type": "code",
   "execution_count": null,
   "id": "4fe9d82b",
   "metadata": {},
   "outputs": [],
   "source": [
    "Answer:\n",
    "1)Bare except block:\n",
    "When we use a bare except block, it means we catch all exceptions including built-in and custom exceptions.It is written as\n",
    "just except: without specifying any exception type.\n",
    "Example:\n",
    "try:\n",
    "    # Code that might raise an exception\n",
    "except:\n",
    "    # Code to handle the exception   \n",
    "    \n",
    "2)Specifying a specific exception type:\n",
    "When we use a specific exception type in the except block, it means we catch only that particular type of exception and its\n",
    "subclasses. It is written as except ExceptionType: where ExceptionType represents the specific exception we want to handle.\n",
    "Example:\n",
    "try:\n",
    "    # Some code that might raise an exception\n",
    "except ValueError:\n",
    "    # Code to handle the ValueError exception\n",
    "except ZeroDivisionError:\n",
    "    # Code to handle the ZeroDivisionError exception"
   ]
  },
  {
   "cell_type": "markdown",
   "id": "93c96022",
   "metadata": {},
   "source": [
    "# 5. Can you have nested try-except blocks in Python? If yes, then give an example."
   ]
  },
  {
   "cell_type": "code",
   "execution_count": null,
   "id": "9073543d",
   "metadata": {},
   "outputs": [],
   "source": [
    "Answer:\n",
    "Yes, we can place one try-except block inside another try or except block. The outer try block serves as the \"outer\" layer\n",
    "of exception handling, and the inner try block is the inner layer.If an exception occurs in the inner try block and is not\n",
    "handled there, it will propagate to the outer try block's corresponding except block for handling."
   ]
  },
  {
   "cell_type": "code",
   "execution_count": 4,
   "id": "9a9d3da6",
   "metadata": {},
   "outputs": [
    {
     "name": "stdout",
     "output_type": "stream",
     "text": [
      "Enter a number: 55\n",
      "Enter another number: sur\n",
      "Invalid input for the second number. Please enter a valid integer.\n"
     ]
    }
   ],
   "source": [
    "try:\n",
    "    num1 = int(input(\"Enter a number: \"))\n",
    "    try:\n",
    "        num2 = int(input(\"Enter another number: \"))\n",
    "        result = num1/num2\n",
    "        print(\"Result:\", result)\n",
    "    except ValueError:\n",
    "        print(\"Invalid input for the second number. Please enter a valid integer.\")\n",
    "    except ZeroDivisionError:\n",
    "            print(\"Cannot divide by zero.\")\n",
    "except ValueError:\n",
    "    print(\"Invalid input for the first number. Please enter a valid integer.\")"
   ]
  },
  {
   "cell_type": "markdown",
   "id": "a95a89db",
   "metadata": {},
   "source": [
    "# 6. Can we use multiple exception blocks, if yes then give an example."
   ]
  },
  {
   "cell_type": "code",
   "execution_count": null,
   "id": "efeb3009",
   "metadata": {},
   "outputs": [],
   "source": [
    "Answer:\n",
    "Yes, we can use multiple exception blocks in Python. Each except block can handle a specific type of exception or a group\n",
    "of related exceptions."
   ]
  },
  {
   "cell_type": "code",
   "execution_count": 7,
   "id": "cdf12e32",
   "metadata": {},
   "outputs": [
    {
     "name": "stdout",
     "output_type": "stream",
     "text": [
      "Enter a number: 676oio\n",
      "Invalid input. Please enter valid integers.\n"
     ]
    }
   ],
   "source": [
    "try:\n",
    "    num1 = int(input(\"Enter a number: \"))\n",
    "    num2 = int(input(\"Enter another number: \"))\n",
    "    result = num1 / num2\n",
    "    print(\"Result:\", result)\n",
    "except ValueError:\n",
    "    print(\"Invalid input. Please enter valid integers.\")\n",
    "except ZeroDivisionError:\n",
    "    print(\"Cannot divide by zero.\")\n",
    "except ArithmeticError:\n",
    "    print(\"Arithmetic error occurred.\")\n",
    "except Exception as e:\n",
    "    print(\"An unexpected error occurred:\", e)"
   ]
  },
  {
   "cell_type": "markdown",
   "id": "c1638c14",
   "metadata": {},
   "source": [
    "# 7. Write the reason due to which following errors are raised:\n",
    "a. EOFError\n",
    "\n",
    "b. FloatingPointError\n",
    "\n",
    "c. IndexError\n",
    "\n",
    "d. MemoryError\n",
    "\n",
    "e. OverflowError\n",
    "\n",
    "f. TabError\n",
    "\n",
    "g. ValueError"
   ]
  },
  {
   "cell_type": "code",
   "execution_count": null,
   "id": "4919fdd0",
   "metadata": {},
   "outputs": [],
   "source": [
    "Answer:\n",
    "1)EOFError:\n",
    "This error is raised when an input function hits end-of-file condition(ctrl+z in windows) without providing the expected\n",
    "input.\n",
    "\n",
    "2)FloatingPointError:\n",
    "This error occurs when a floating-point operation(such as division by zero) results in an exceptional condition that is\n",
    "not defined often related to arithmetic errors with floating-point numbers.\n",
    "\n",
    "3)IndexError:\n",
    "This error is raised when we try to access an index of a sequence(like a list or a string) that is out of range.\n",
    "\n",
    "4)MemoryError:\n",
    "This error occurs when the program runs out of available memory(RAM).\n",
    "\n",
    "5)OverflowError:\n",
    "This error is raised when an arithmetic operation results in a value that exceeds the maximum representable value for a\n",
    "numeric type, such as an integer exceeding the maximum value to be represented.\n",
    "\n",
    "6)TabError:\n",
    "This error is raised when there are inconsistent or improper indentation in the Python code.\n",
    "\n",
    "7) ValueError:\n",
    "This error occurs when a function receives an argument of the correct type but an inappropriate value."
   ]
  },
  {
   "cell_type": "markdown",
   "id": "6694f439",
   "metadata": {},
   "source": [
    "# 8. Write code for the following given scenario and add try-exception block to it.\n",
    "a. Program to divide two numbers\n",
    "\n",
    "b. Program to convert a string to an integer\n",
    "\n",
    "c. Program to access an element in a list\n",
    "\n",
    "d. Program to handle a specific exception\n",
    "\n",
    "e. Program to handle any exception"
   ]
  },
  {
   "cell_type": "code",
   "execution_count": 12,
   "id": "07f88d4f",
   "metadata": {},
   "outputs": [
    {
     "name": "stdout",
     "output_type": "stream",
     "text": [
      "enter num1: 34\n",
      "enter num2: 2\n",
      "17.0\n"
     ]
    }
   ],
   "source": [
    "#Answer:\n",
    "#1)Program to divide two numbers:\n",
    "\n",
    "def div_numbers():\n",
    "    try:\n",
    "        num1=int(input(\"enter num1: \"))\n",
    "        num2=int(input(\"enter num2: \"))\n",
    "        result=num1/num2\n",
    "        print(result)\n",
    "    except ZeroDivisionError:\n",
    "        print(\"cannot divide by zero\")\n",
    "        \n",
    "div_numbers()"
   ]
  },
  {
   "cell_type": "code",
   "execution_count": 27,
   "id": "cc891f48",
   "metadata": {},
   "outputs": [
    {
     "name": "stdout",
     "output_type": "stream",
     "text": [
      "Enter a number: suraj\n",
      "Invalid input, Please enter a valid integer.\n"
     ]
    }
   ],
   "source": [
    "#2)program to convert a string into integer:\n",
    "\n",
    "def convert_integer():\n",
    "    try:\n",
    "        string_num = input(\"Enter a number: \")\n",
    "        num = int(string_num)\n",
    "        print(\"Number:\", num)\n",
    "    except ValueError:\n",
    "        print(\"Invalid input, Please enter a valid integer.\")\n",
    "\n",
    "convert_integer()"
   ]
  },
  {
   "cell_type": "code",
   "execution_count": 28,
   "id": "056ef2d3",
   "metadata": {},
   "outputs": [
    {
     "name": "stdout",
     "output_type": "stream",
     "text": [
      "Enter the index to access: 8\n",
      "Index out of range, Please enter a valid index.\n"
     ]
    }
   ],
   "source": [
    "#3)program to access an element in a list:\n",
    "\n",
    "def list_element():\n",
    "    my_list = [1, 2, 3, 4, 5]\n",
    "    try:\n",
    "        index = int(input(\"Enter the index to access: \"))\n",
    "        value = my_list[index]\n",
    "        print(\"Value at index\", index, \":\", value)\n",
    "    except IndexError:\n",
    "        print(\"Index out of range, Please enter a valid index.\")\n",
    "    except ValueError:\n",
    "        print(\"Invalid input, Please enter a valid integer.\")\n",
    "\n",
    "list_element()"
   ]
  },
  {
   "cell_type": "code",
   "execution_count": 21,
   "id": "27e2eba9",
   "metadata": {},
   "outputs": [
    {
     "name": "stdout",
     "output_type": "stream",
     "text": [
      "Enter a positive number: 9\n",
      "Your number: 9\n"
     ]
    }
   ],
   "source": [
    "#4)program to handle a specific exception:\n",
    "\n",
    "def handle_exception():\n",
    "    try:\n",
    "        x = int(input(\"Enter a positive number: \"))\n",
    "        if x <= 0:\n",
    "            raise ValueError(\"Please enter a positive number.\")\n",
    "        print(\"Your number:\", x)\n",
    "    except ValueError as ve:\n",
    "        print(ve)\n",
    "\n",
    "handle_exception()"
   ]
  },
  {
   "cell_type": "code",
   "execution_count": 26,
   "id": "3ce4112b",
   "metadata": {},
   "outputs": [
    {
     "name": "stdout",
     "output_type": "stream",
     "text": [
      "Enter a number: s\n",
      "An unexpected error occurred: invalid literal for int() with base 10: 's'\n"
     ]
    }
   ],
   "source": [
    "#5)Program to handle any exception:\n",
    "\n",
    "def handle_exception():\n",
    "    try:\n",
    "        x = int(input(\"Enter a number: \"))\n",
    "        result = 10 / x\n",
    "        print(\"Result:\", result)\n",
    "    except Exception as e:\n",
    "        print(\"An unexpected error occurred:\", e)\n",
    "\n",
    "handle_exception()"
   ]
  }
 ],
 "metadata": {
  "kernelspec": {
   "display_name": "Python 3 (ipykernel)",
   "language": "python",
   "name": "python3"
  },
  "language_info": {
   "codemirror_mode": {
    "name": "ipython",
    "version": 3
   },
   "file_extension": ".py",
   "mimetype": "text/x-python",
   "name": "python",
   "nbconvert_exporter": "python",
   "pygments_lexer": "ipython3",
   "version": "3.11.2"
  }
 },
 "nbformat": 4,
 "nbformat_minor": 5
}
